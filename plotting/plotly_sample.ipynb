{
 "cells": [
  {
   "cell_type": "code",
   "execution_count": 3,
   "metadata": {
    "collapsed": false
   },
   "outputs": [
    {
     "name": "stdout",
     "output_type": "stream",
     "text": [
      "done!\n"
     ]
    }
   ],
   "source": [
    "import numpy as np\n",
    "\n",
    "\n",
    "\n",
    "N=1000\n",
    "ra = (237.5 - 112.5) * np.random.random_sample(N) + 112.5\n",
    "dec = 30 * np.random.random_sample(N)\n",
    "z = (0.05-0.02) * np.random.random_sample(N) + 0.02\n",
    "\n",
    "print 'done!'\n"
   ]
  },
  {
   "cell_type": "code",
   "execution_count": 6,
   "metadata": {
    "collapsed": false
   },
   "outputs": [
    {
     "name": "stdout",
     "output_type": "stream",
     "text": [
      "done\n"
     ]
    }
   ],
   "source": [
    "# Learn about API authentication here: https://plot.ly/python/getting-started\n",
    "# Find your api_key here: https://plot.ly/settings/api\n",
    "\n",
    "import plotly.plotly as py\n",
    "from plotly.graph_objs import *\n",
    "\n",
    "py.sign_in('thbrown', '6xem0p47u1')\n",
    "\n",
    "trace1 = Scatter3d(\n",
    "    x=ra,\n",
    "    y=dec,\n",
    "    z=z,\n",
    "    mode='markers',\n",
    "    marker=Marker(\n",
    "        size=4,\n",
    "        line=Line(\n",
    "            color='red',\n",
    "            width=0.5\n",
    "        ),\n",
    "        opacity=0.8\n",
    "    )\n",
    ")\n",
    "\n",
    "print 'done'\n"
   ]
  },
  {
   "cell_type": "code",
   "execution_count": 7,
   "metadata": {
    "collapsed": false
   },
   "outputs": [
    {
     "data": {
      "text/html": [
       "<iframe id=\"igraph\" scrolling=\"no\" style=\"border:none;\"seamless=\"seamless\" src=\"https://plot.ly/~thbrown/29.embed\" height=\"525\" width=\"100%\"></iframe>"
      ],
      "text/plain": [
       "<plotly.tools.PlotlyDisplay object>"
      ]
     },
     "execution_count": 7,
     "metadata": {},
     "output_type": "execute_result"
    }
   ],
   "source": [
    "# data = Data([trace1, trace2])\n",
    "data = Data([trace1])\n",
    "\n",
    "# Dictionary of style options for all axes\n",
    "axis = dict(\n",
    "    showbackground=True, # (!) show axis background\n",
    "    backgroundcolor=\"rgb(204, 204, 204)\", # set background color to grey\n",
    "    gridcolor=\"rgb(255, 255, 255)\",       # set grid line color\n",
    "    zerolinecolor=\"rgb(255, 255, 255)\",   # set zero grid line color\n",
    ")\n",
    "\n",
    "# Make a layout object\n",
    "layout = Layout(\n",
    "    title='Ra, dec, Z', # set plot title\n",
    "    scene=Scene(  # (!) axes are part of a 'scene' in 3d plots\n",
    "        xaxis=XAxis(axis), # set x-axis style\n",
    "        yaxis=YAxis(axis), # set y-axis style\n",
    "        zaxis=ZAxis(axis)  # set z-axis style\n",
    "    )\n",
    ")\n",
    "\n",
    "\n",
    "fig = Figure(data=data, layout=layout)\n",
    "py.iplot(data, filename = 'position plot')"
   ]
  },
  {
   "cell_type": "code",
   "execution_count": 10,
   "metadata": {
    "collapsed": false
   },
   "outputs": [],
   "source": [
    "import astropy.coordinates.distances as distances\n",
    "import pylab as p\n",
    "from mpl_toolkits.mplot3d import Axes3D\n",
    "import matplotlib.pyplot as plt\n",
    "import matplotlib.cm as cm\n",
    "\n",
    "datamin=min(z)\n",
    "datamax=max(z)\n",
    "fig=p.figure()\n",
    "\n",
    "x = ra\n",
    "y = dec\n",
    "z = z\n",
    "\n",
    "# coord = distances.spherical_to_cartesian(lumdist, ra, dec)\n",
    "\n",
    "# print coord[0]\n",
    "\n",
    "ax3D=fig.add_subplot(111, projection='3d')\n",
    "collection = ax3D.scatter(x ,y, z, c=z, vmin=datamin, vmax=datamax, marker='o', cmap=cm.Spectral)\n",
    "\n",
    "\n",
    "p.title(\"Galaxy position\")\n",
    "ax3D.set_xlabel('x')\n",
    "ax3D.set_ylabel('y')\n",
    "ax3D.set_zlabel('Z')\n",
    "p.show()"
   ]
  },
  {
   "cell_type": "code",
   "execution_count": null,
   "metadata": {
    "collapsed": true
   },
   "outputs": [],
   "source": []
  }
 ],
 "metadata": {
  "kernelspec": {
   "display_name": "Python 2",
   "language": "python",
   "name": "python2"
  },
  "language_info": {
   "codemirror_mode": {
    "name": "ipython",
    "version": 2
   },
   "file_extension": ".py",
   "mimetype": "text/x-python",
   "name": "python",
   "nbconvert_exporter": "python",
   "pygments_lexer": "ipython2",
   "version": "2.7.9"
  }
 },
 "nbformat": 4,
 "nbformat_minor": 0
}
