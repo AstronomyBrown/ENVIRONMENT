{
 "cells": [
  {
   "cell_type": "code",
   "execution_count": 5,
   "metadata": {
    "collapsed": false
   },
   "outputs": [
    {
     "name": "stdout",
     "output_type": "stream",
     "text": [
      "14.9127\n"
     ]
    }
   ],
   "source": [
    "import pyfits\n",
    "import numpy as np\n",
    "\n",
    "path = '/Users/thbrown/AA_project/TOBY_STACKING/SAMPLES/FULL/ENVIRONMENT/'\n",
    "\n",
    "plotdir = '/Users/thbrown/AA_project/TOBY_STACKING/ENVIRONMENT/plots/characterisation/'\n",
    "\n",
    "\n",
    "hdulist = pyfits.open(path+'nuvr_halo_LD_NN.fits')\n",
    "tbdata = hdulist[1].data\n",
    "ID = tbdata['ID']\n",
    "z = tbdata['Z']\n",
    "ms = tbdata['lgMst_median']\n",
    "halo = tbdata['haloM_Mst']\n",
    "ld_Mpc2 = tbdata['ld_Mpc2']\n",
    "ld_Mpc3 = tbdata['ld_Mpc3']\n",
    "nn3_Mpc3 = tbdata['nn3_Mpc3']\n",
    "nn5_Mpc3 = tbdata['nn5_Mpc3']\n",
    "nn7_Mpc3 = tbdata['nn7_Mpc3']\n",
    "nn10_Mpc3 = tbdata['nn10_Mpc3']\n",
    "nuvr = tbdata['NUV_r']\n",
    "mu = tbdata['mu_star']\n",
    "u_mag = tbdata['modelMag_u']\n",
    "r_mag = tbdata['modelMag_r']\n",
    "u_r = u_mag - r_mag\n",
    "\n",
    "print max(halo)"
   ]
  },
  {
   "cell_type": "code",
   "execution_count": 10,
   "metadata": {
    "collapsed": false
   },
   "outputs": [
    {
     "ename": "NameError",
     "evalue": "name 'savefig' is not defined",
     "output_type": "error",
     "traceback": [
      "\u001b[0;31m---------------------------------------------------------------------------\u001b[0m",
      "\u001b[0;31mNameError\u001b[0m                                 Traceback (most recent call last)",
      "\u001b[0;32m<ipython-input-10-a755451f00ce>\u001b[0m in \u001b[0;36m<module>\u001b[0;34m()\u001b[0m\n\u001b[1;32m     16\u001b[0m \u001b[0mplt\u001b[0m\u001b[0;34m.\u001b[0m\u001b[0mylabel\u001b[0m\u001b[0;34m(\u001b[0m\u001b[0;34m'log halo mass [Msol]'\u001b[0m\u001b[0;34m,\u001b[0m \u001b[0mfontsize\u001b[0m\u001b[0;34m=\u001b[0m\u001b[0;36m18\u001b[0m\u001b[0;34m)\u001b[0m\u001b[0;34m\u001b[0m\u001b[0m\n\u001b[1;32m     17\u001b[0m \u001b[0;34m\u001b[0m\u001b[0m\n\u001b[0;32m---> 18\u001b[0;31m \u001b[0msavefig\u001b[0m\u001b[0;34m(\u001b[0m\u001b[0;34m'test.pdf'\u001b[0m\u001b[0;34m)\u001b[0m\u001b[0;34m\u001b[0m\u001b[0m\n\u001b[0m\u001b[1;32m     19\u001b[0m \u001b[0mplt\u001b[0m\u001b[0;34m.\u001b[0m\u001b[0mclf\u001b[0m\u001b[0;34m(\u001b[0m\u001b[0;34m)\u001b[0m\u001b[0;34m\u001b[0m\u001b[0m\n",
      "\u001b[0;31mNameError\u001b[0m: name 'savefig' is not defined"
     ]
    }
   ],
   "source": [
    "# M* vs Mhalo (NUV-r colours)\n",
    "\n",
    "import matplotlib.pyplot as plt\n",
    "import numpy as np\n",
    "\n",
    "\n",
    "cm = plt.cm.get_cmap('jet')\n",
    "\n",
    "\n",
    "sc = plt.scatter(ms, halo, c=nuvr, vmin=1, vmax=8, s=35, cmap=cm, edgecolor = 'none')\n",
    "cbar = plt.colorbar(sc)\n",
    "cbar.set_label('NUV-r', rotation=90, fontsize=18)\n",
    "plt.xlim(9,11.5)\n",
    "plt.ylim(11.5,15)\n",
    "plt.xlabel('log stellar mass [Msol]', fontsize=18)\n",
    "plt.ylabel('log halo mass [Msol]', fontsize=18)\n",
    "\n",
    "plt.savefig('ms_mhalo_nuvr.pdf')\n",
    "plt.clf()"
   ]
  },
  {
   "cell_type": "code",
   "execution_count": 32,
   "metadata": {
    "collapsed": false
   },
   "outputs": [],
   "source": [
    "# M* vs Mhalo (surface density cbar)\n",
    "\n",
    "import matplotlib.pyplot as plt\n",
    "import numpy as np\n",
    "\n",
    "\n",
    "cm = plt.cm.get_cmap('jet')\n",
    "\n",
    "sc = plt.scatter(ms, halo, c=mu, vmin=7, vmax=10, s=35, cmap=cm, edgecolor = 'none')\n",
    "cbar = plt.colorbar(sc)\n",
    "cbar.set_label('log surface density [Msol kpc^-2]', rotation=90, fontsize=18)\n",
    "plt.xlim(9,11.5)\n",
    "plt.ylim(11.5,15)\n",
    "plt.xlabel('log stellar mass [Msol]', fontsize=18)\n",
    "plt.ylabel('log halo mass [Msol]', fontsize=18)\n",
    "\n",
    "plt.savefig(plotdir+'test.pdf')\n",
    "plt.clf()\n"
   ]
  },
  {
   "cell_type": "code",
   "execution_count": 122,
   "metadata": {
    "collapsed": false
   },
   "outputs": [],
   "source": [
    "#  M* vs Mhalo (NUV-r colours)\n",
    "\n",
    "import matplotlib.pyplot as plt\n",
    "import numpy as np\n",
    "\n",
    "\n",
    "cm = plt.cm.get_cmap('jet')\n",
    "z = u_r\n",
    "\n",
    "sc = plt.scatter(ms, halo, c=z, vmin=0.5, vmax=4, s=35, cmap=cm, edgecolor = 'none')\n",
    "cbar = plt.colorbar(sc)\n",
    "cbar.set_label('u - r', rotation=90, fontsize=18)\n",
    "plt.xlim(9,11.5)\n",
    "plt.ylim(11.5,15)\n",
    "plt.xlabel('log stellar mass [Msol]', fontsize=18)\n",
    "plt.ylabel('log halo mass [Msol]', fontsize=18)\n",
    "\n",
    "plt.savefig(plotdir+'ms_mhalo_ur.pdf')\n",
    "plt.clf()\n"
   ]
  },
  {
   "cell_type": "code",
   "execution_count": 17,
   "metadata": {
    "collapsed": false
   },
   "outputs": [],
   "source": [
    "# N/Mpc^2 vs Mhalo (NUV-r colours)\n",
    "\n",
    "import matplotlib.pyplot as plt\n",
    "import numpy as np\n",
    "\n",
    "\n",
    "\n",
    "cm = plt.cm.get_cmap('jet')\n",
    "\n",
    "\n",
    "sc = plt.scatter(np.log10(ld_Mpc2), halo, c=nuvr, vmin=1, vmax=8, s=35, cmap=cm, edgecolor = 'none')\n",
    "cbar = plt.colorbar(sc)\n",
    "cbar.set_label('NUV-r', rotation=90, fontsize=18)\n",
    "plt.xlim(-1,2)\n",
    "plt.ylim(11.5,15)\n",
    "plt.xlabel('log N/Mpc^2', fontsize=18)\n",
    "plt.ylabel('log halo mass [Msol]', fontsize=18)\n",
    "\n",
    "plt.savefig(plotdir+'density2_mhalo_nuvr.pdf')\n",
    "plt.clf()"
   ]
  },
  {
   "cell_type": "code",
   "execution_count": 19,
   "metadata": {
    "collapsed": false
   },
   "outputs": [
    {
     "name": "stdout",
     "output_type": "stream",
     "text": [
      "[ 1.43098983  1.40729517  1.39494473  1.38651156  1.38651156  1.38651156\n",
      "  1.38223276  1.37791139  1.37791139  1.37354659  1.37354659  1.37354659\n",
      "  1.37354659  1.36913747  1.36913747  1.36468312  1.36468312  1.36468312\n",
      "  1.36018262  1.36018262]\n",
      "26.9767628541\n"
     ]
    }
   ],
   "source": [
    "# N/Mpc^3 vs Mhalo (NUV-r colours)\n",
    "\n",
    "import matplotlib.pyplot as plt\n",
    "import numpy as np\n",
    "\n",
    "print np.log10(ld_Mpc3[0:20])\n",
    "print max(ld_Mpc3)\n",
    "\n",
    "cm = plt.cm.get_cmap('jet')\n",
    "\n",
    "\n",
    "\n",
    "sc = plt.scatter(np.log10(ld_Mpc3), halo, c=nuvr, vmin=1, vmax=8, s=35, cmap=cm, edgecolor = 'none')\n",
    "cbar = plt.colorbar(sc)\n",
    "cbar.set_label('NUV-r', rotation=90, fontsize=18)\n",
    "plt.xlim(-1,2.)\n",
    "plt.ylim(11.5,15)\n",
    "plt.xlabel('log N/Mpc^3', fontsize=18)\n",
    "plt.ylabel('log halo mass [Msol]', fontsize=18)\n",
    "\n",
    "plt.savefig(plotdir+'density3_mhalo_nuvr.pdf')\n",
    "plt.clf()"
   ]
  },
  {
   "cell_type": "code",
   "execution_count": 20,
   "metadata": {
    "collapsed": false
   },
   "outputs": [],
   "source": [
    "# N/Mpc^2 vs Mhalo (mu colours)\n",
    "\n",
    "import matplotlib.pyplot as plt\n",
    "import numpy as np\n",
    "\n",
    "\n",
    "cm = plt.cm.get_cmap('jet')\n",
    "\n",
    "\n",
    "sc = plt.scatter(np.log10(ld_Mpc2), halo, c=mu,  vmin=7, vmax=10, s=35, cmap=cm, edgecolor = 'none')\n",
    "cbar = plt.colorbar(sc)\n",
    "cbar.set_label('log surface density [Msol kpc^-2]', rotation=90, fontsize=18)\n",
    "plt.xlim(-1,2.)\n",
    "plt.ylim(11.5,15)\n",
    "plt.xlabel('log N/Mpc^2', fontsize=18)\n",
    "plt.ylabel('log halo mass [Msol]', fontsize=18)\n",
    "\n",
    "\n",
    "plt.savefig(plotdir+'density2_mhalo_mu.pdf')\n",
    "plt.clf()"
   ]
  },
  {
   "cell_type": "code",
   "execution_count": 24,
   "metadata": {
    "collapsed": false
   },
   "outputs": [],
   "source": [
    "# N/Mpc^3 vs Mhalo (NUV-r colours)\n",
    "\n",
    "import matplotlib.pyplot as plt\n",
    "import numpy as np\n",
    "\n",
    "\n",
    "cm = plt.cm.get_cmap('jet')\n",
    "\n",
    "\n",
    "sc = plt.scatter(np.log10(ld_Mpc3), halo, c=mu, vmin=7, vmax=10, s=35, cmap=cm, edgecolor = 'none')\n",
    "cbar = plt.colorbar(sc)\n",
    "cbar.set_label('log surface density [Msol kpc^-2]', rotation=90, fontsize=18)\n",
    "plt.xlim(-1,2.)\n",
    "plt.ylim(11.5,15)\n",
    "plt.xlabel('log N/Mpc^3', fontsize=18)\n",
    "plt.ylabel('log halo mass [Msol]', fontsize=18)\n",
    "\n",
    "plt.savefig(plotdir+'density3_mhalo_mu.pdf')\n",
    "plt.clf()"
   ]
  },
  {
   "cell_type": "code",
   "execution_count": 23,
   "metadata": {
    "collapsed": false
   },
   "outputs": [
    {
     "name": "stdout",
     "output_type": "stream",
     "text": [
      "d\n"
     ]
    }
   ],
   "source": [
    "# M* vs N/Mpc^2  (NUV-r colours)\n",
    "\n",
    "import matplotlib.pyplot as plt\n",
    "import numpy as np\n",
    "\n",
    "\n",
    "cm = plt.cm.get_cmap('jet')\n",
    "\n",
    "\n",
    "sc = plt.scatter(ms, np.log10(ld_Mpc2), c=nuvr, vmin=1, vmax=8, s=35, cmap=cm, edgecolor = 'none')\n",
    "cbar = plt.colorbar(sc)\n",
    "cbar.set_label('NUV-r', rotation=90, fontsize=18)\n",
    "plt.xlim(9,11.5)\n",
    "plt.ylim(-1,2.)\n",
    "plt.xlabel('log stellar mass [Msol]', fontsize=18)\n",
    "plt.ylabel('log N/Mpc^2', fontsize=18)\n",
    "\n",
    "plt.savefig(plotdir+'ms_density_nuvr.pdf')\n",
    "plt.clf()\n",
    "print 'd'"
   ]
  },
  {
   "cell_type": "code",
   "execution_count": 27,
   "metadata": {
    "collapsed": false
   },
   "outputs": [
    {
     "name": "stdout",
     "output_type": "stream",
     "text": [
      "d\n"
     ]
    }
   ],
   "source": [
    "# 5nn/Mpc^2 vs mahalo (NUV-r colours)\n",
    "\n",
    "import matplotlib.pyplot as plt\n",
    "import numpy as np\n",
    "\n",
    "\n",
    "cm = plt.cm.get_cmap('jet')\n",
    "\n",
    "\n",
    "sc = plt.scatter(np.log10(nn5_Mpc3), halo, c=nuvr, vmin=1, vmax=8, s=35, cmap=cm, edgecolor = 'none')\n",
    "cbar = plt.colorbar(sc)\n",
    "cbar.set_label('NUV-r', rotation=90, fontsize=18)\n",
    "plt.xlim(-5.,2.)\n",
    "plt.ylim(11.5,15)\n",
    "plt.xlabel('log 5th nn/Mpc^3', fontsize=18)\n",
    "plt.ylabel('log halo mass [Msol]', fontsize=18)\n",
    "\n",
    "plt.savefig(plotdir+'nn5_nuvr_mhalo.pdf')\n",
    "plt.clf()\n",
    "print 'd'"
   ]
  },
  {
   "cell_type": "code",
   "execution_count": 29,
   "metadata": {
    "collapsed": false
   },
   "outputs": [
    {
     "name": "stdout",
     "output_type": "stream",
     "text": [
      "d\n"
     ]
    }
   ],
   "source": [
    "# 7nn/Mpc^2 vs mahalo (NUV-r colours)\n",
    "\n",
    "import matplotlib.pyplot as plt\n",
    "import numpy as np\n",
    "\n",
    "\n",
    "cm = plt.cm.get_cmap('jet')\n",
    "\n",
    "\n",
    "sc = plt.scatter(np.log10(nn7_Mpc3), halo, c=nuvr, vmin=1, vmax=8, s=35, cmap=cm, edgecolor = 'none')\n",
    "cbar = plt.colorbar(sc)\n",
    "cbar.set_label('NUV-r', rotation=90, fontsize=18)\n",
    "plt.xlim(-5.,2.)\n",
    "plt.ylim(11.5,15)\n",
    "plt.xlabel('log 7th nn/Mpc^3', fontsize=18)\n",
    "plt.ylabel('log halo mass [Msol]', fontsize=18)\n",
    "\n",
    "plt.savefig(plotdir+'nn7_nuvr_mhalo.pdf')\n",
    "plt.clf()\n",
    "print 'd'"
   ]
  },
  {
   "cell_type": "code",
   "execution_count": 30,
   "metadata": {
    "collapsed": false
   },
   "outputs": [
    {
     "name": "stdout",
     "output_type": "stream",
     "text": [
      "0.238732414638\n",
      "d\n"
     ]
    }
   ],
   "source": [
    "# # 7nn/Mpc^2 vs N/Mpc^2 (NUV-r colours)\n",
    "import matplotlib.pyplot as plt\n",
    "import numpy as np\n",
    "\n",
    "\n",
    "cm = plt.cm.get_cmap('jet')\n",
    "\n",
    "print min(ld_Mpc3)\n",
    "\n",
    "\n",
    "sc = plt.scatter(np.log10(nn7_Mpc3), np.log10(ld_Mpc3), c=nuvr, vmin=1, vmax=8, s=35, cmap=cm, edgecolor = 'none')\n",
    "cbar = plt.colorbar(sc)\n",
    "cbar.set_label('NUV-r', rotation=90, fontsize=18)\n",
    "plt.xlim(-5.,2.)\n",
    "plt.ylim(-1,1.5)\n",
    "plt.xlabel('log 7th nn/Mpc^3', fontsize=18)\n",
    "plt.ylabel('log N/Mpc^3', fontsize=18)\n",
    "\n",
    "plt.savefig(plotdir+'nn7_ld_nuvr.pdf')\n",
    "plt.clf()\n",
    "print 'd'"
   ]
  },
  {
   "cell_type": "code",
   "execution_count": 31,
   "metadata": {
    "collapsed": false
   },
   "outputs": [
    {
     "name": "stdout",
     "output_type": "stream",
     "text": [
      "-3.77401423545\n",
      "[ 0.23873241]\n",
      "[-0.62208861]\n",
      "d\n"
     ]
    }
   ],
   "source": [
    "# # 5nn/Mpc^2 vs N/Mpc^2 (NUV-r colours)\n",
    "import matplotlib.pyplot as plt\n",
    "import numpy as np\n",
    "\n",
    "\n",
    "cm = plt.cm.get_cmap('jet')\n",
    "\n",
    "print np.log10(min(nn7_Mpc3))\n",
    "print ld_Mpc3[(np.where(nn7_Mpc3 == min(nn7_Mpc3)))]\n",
    "print np.log10(ld_Mpc3[(np.where(nn7_Mpc3 == min(nn7_Mpc3)))])\n",
    "\n",
    "\n",
    "sc = plt.scatter(np.log10(nn5_Mpc3), np.log10(ld_Mpc3), c=nuvr, vmin=1, vmax=8, s=35, cmap=cm, edgecolor = 'none')\n",
    "cbar = plt.colorbar(sc)\n",
    "cbar.set_label('NUV-r', rotation=90, fontsize=18)\n",
    "plt.xlim(-5.,2.)\n",
    "plt.ylim(-1,1.5)\n",
    "plt.xlabel('log 5th nn/Mpc^3', fontsize=18)\n",
    "plt.ylabel('log N/Mpc^2', fontsize=18)\n",
    "\n",
    "plt.savefig(plotdir+'nn5_ld_nuvr.pdf')\n",
    "plt.clf()\n",
    "print 'd'"
   ]
  },
  {
   "cell_type": "code",
   "execution_count": 32,
   "metadata": {
    "collapsed": false
   },
   "outputs": [
    {
     "name": "stdout",
     "output_type": "stream",
     "text": [
      "d\n"
     ]
    }
   ],
   "source": [
    "# M* vs N/Mpc^2  (NUV-r colours)\n",
    "\n",
    "import matplotlib.pyplot as plt\n",
    "import numpy as np\n",
    "\n",
    "\n",
    "cm = plt.cm.get_cmap('jet')\n",
    "\n",
    "\n",
    "sc = plt.scatter(ms, np.log10(nn7_Mpc3), c=nuvr, vmin=1, vmax=8, s=35, cmap=cm, edgecolor = 'none')\n",
    "cbar = plt.colorbar(sc)\n",
    "cbar.set_label('NUV-r', rotation=90, fontsize=18)\n",
    "plt.xlim(9,11.5)\n",
    "plt.ylim(-5.,2.)\n",
    "plt.xlabel('log stellar mass [Msol]', fontsize=18)\n",
    "plt.ylabel('log 7th nn/Mpc^3', fontsize=18)\n",
    "\n",
    "plt.savefig(plotdir+'ms_nn_nuvr.pdf')\n",
    "plt.clf()\n",
    "print 'd'"
   ]
  },
  {
   "cell_type": "code",
   "execution_count": null,
   "metadata": {
    "collapsed": true
   },
   "outputs": [],
   "source": []
  }
 ],
 "metadata": {
  "kernelspec": {
   "display_name": "Python 2",
   "language": "python",
   "name": "python2"
  },
  "language_info": {
   "codemirror_mode": {
    "name": "ipython",
    "version": 2
   },
   "file_extension": ".py",
   "mimetype": "text/x-python",
   "name": "python",
   "nbconvert_exporter": "python",
   "pygments_lexer": "ipython2",
   "version": "2.7.3"
  }
 },
 "nbformat": 4,
 "nbformat_minor": 0
}
