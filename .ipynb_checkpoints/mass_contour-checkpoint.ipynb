{
 "cells": [
  {
   "cell_type": "code",
   "execution_count": 7,
   "metadata": {
    "collapsed": false
   },
   "outputs": [
    {
     "name": "stdout",
     "output_type": "stream",
     "text": [
      "13278\n"
     ]
    }
   ],
   "source": [
    "import pyfits\n",
    "import numpy as np\n",
    "\n",
    "path = '/Users/thbrown/AA_project/TOBY_STACKING/SAMPLES/FULL/ENVIRONMENT/'\n",
    "\n",
    "plotdir = '/Users/thbrown/AA_project/TOBY_STACKING/ENVIRONMENT/plots/characterisation/'\n",
    "\n",
    "\n",
    "hdulist = pyfits.open(path+'nuvr_halo_density.fits')\n",
    "tbdata = hdulist[1].data\n",
    "ID = tbdata['ID']\n",
    "z = tbdata['Z']\n",
    "ms = tbdata['lgMst_median']\n",
    "halo = tbdata['haloM_Mst']\n",
    "N_Mpc2 = tbdata['N_Mpc2']\n",
    "N_Mpc3 = tbdata['N_Mpc3']\n",
    "nuvr = tbdata['NUV_r']\n",
    "mu = tbdata['mu_star']\n",
    "u_mag = tbdata['modelMag_u']\n",
    "r_mag = tbdata['modelMag_r']\n",
    "u_r = u_mag - r_mag\n",
    "\n",
    "print len(z)"
   ]
  },
  {
   "cell_type": "code",
   "execution_count": 10,
   "metadata": {
    "collapsed": false
   },
   "outputs": [
    {
     "ename": "NameError",
     "evalue": "name 'savefig' is not defined",
     "output_type": "error",
     "traceback": [
      "\u001b[0;31m---------------------------------------------------------------------------\u001b[0m",
      "\u001b[0;31mNameError\u001b[0m                                 Traceback (most recent call last)",
      "\u001b[0;32m<ipython-input-10-a755451f00ce>\u001b[0m in \u001b[0;36m<module>\u001b[0;34m()\u001b[0m\n\u001b[1;32m     16\u001b[0m \u001b[0mplt\u001b[0m\u001b[0;34m.\u001b[0m\u001b[0mylabel\u001b[0m\u001b[0;34m(\u001b[0m\u001b[0;34m'log halo mass [Msol]'\u001b[0m\u001b[0;34m,\u001b[0m \u001b[0mfontsize\u001b[0m\u001b[0;34m=\u001b[0m\u001b[0;36m18\u001b[0m\u001b[0;34m)\u001b[0m\u001b[0;34m\u001b[0m\u001b[0m\n\u001b[1;32m     17\u001b[0m \u001b[0;34m\u001b[0m\u001b[0m\n\u001b[0;32m---> 18\u001b[0;31m \u001b[0msavefig\u001b[0m\u001b[0;34m(\u001b[0m\u001b[0;34m'test.pdf'\u001b[0m\u001b[0;34m)\u001b[0m\u001b[0;34m\u001b[0m\u001b[0m\n\u001b[0m\u001b[1;32m     19\u001b[0m \u001b[0mplt\u001b[0m\u001b[0;34m.\u001b[0m\u001b[0mclf\u001b[0m\u001b[0;34m(\u001b[0m\u001b[0;34m)\u001b[0m\u001b[0;34m\u001b[0m\u001b[0m\n",
      "\u001b[0;31mNameError\u001b[0m: name 'savefig' is not defined"
     ]
    }
   ],
   "source": [
    "# M* vs Mhalo (NUV-r colours)\n",
    "\n",
    "import matplotlib.pyplot as plt\n",
    "import numpy as np\n",
    "\n",
    "\n",
    "cm = plt.cm.get_cmap('jet')\n",
    "\n",
    "\n",
    "sc = plt.scatter(ms, halo, c=nuvr, vmin=1, vmax=8, s=35, cmap=cm, edgecolor = 'none')\n",
    "cbar = plt.colorbar(sc)\n",
    "cbar.set_label('NUV-r', rotation=90, fontsize=18)\n",
    "plt.xlim(9,11.5)\n",
    "plt.ylim(11.5,15)\n",
    "plt.xlabel('log stellar mass [Msol]', fontsize=18)\n",
    "plt.ylabel('log halo mass [Msol]', fontsize=18)\n",
    "\n",
    "plt.savefig('ms_mhalo_nuvr.pdf')\n",
    "plt.clf()"
   ]
  },
  {
   "cell_type": "code",
   "execution_count": 32,
   "metadata": {
    "collapsed": false
   },
   "outputs": [],
   "source": [
    "# M* vs Mhalo (surface density cbar)\n",
    "\n",
    "import matplotlib.pyplot as plt\n",
    "import numpy as np\n",
    "\n",
    "\n",
    "cm = plt.cm.get_cmap('jet')\n",
    "\n",
    "sc = plt.scatter(ms, halo, c=mu, vmin=7, vmax=10, s=35, cmap=cm, edgecolor = 'none')\n",
    "cbar = plt.colorbar(sc)\n",
    "cbar.set_label('log surface density [Msol kpc^-2]', rotation=90, fontsize=18)\n",
    "plt.xlim(9,11.5)\n",
    "plt.ylim(11.5,15)\n",
    "plt.xlabel('log stellar mass [Msol]', fontsize=18)\n",
    "plt.ylabel('log halo mass [Msol]', fontsize=18)\n",
    "\n",
    "plt.savefig(plotdir+'test.pdf')\n",
    "plt.clf()\n"
   ]
  },
  {
   "cell_type": "code",
   "execution_count": 122,
   "metadata": {
    "collapsed": false
   },
   "outputs": [],
   "source": [
    "#  M* vs Mhalo (NUV-r colours)\n",
    "\n",
    "import matplotlib.pyplot as plt\n",
    "import numpy as np\n",
    "\n",
    "\n",
    "cm = plt.cm.get_cmap('jet')\n",
    "z = u_r\n",
    "\n",
    "sc = plt.scatter(ms, halo, c=z, vmin=0.5, vmax=4, s=35, cmap=cm, edgecolor = 'none')\n",
    "cbar = plt.colorbar(sc)\n",
    "cbar.set_label('u - r', rotation=90, fontsize=18)\n",
    "plt.xlim(9,11.5)\n",
    "plt.ylim(11.5,15)\n",
    "plt.xlabel('log stellar mass [Msol]', fontsize=18)\n",
    "plt.ylabel('log halo mass [Msol]', fontsize=18)\n",
    "\n",
    "plt.savefig(plotdir+'ms_mhalo_ur.pdf')\n",
    "plt.clf()\n"
   ]
  },
  {
   "cell_type": "code",
   "execution_count": 10,
   "metadata": {
    "collapsed": false
   },
   "outputs": [
    {
     "name": "stdout",
     "output_type": "stream",
     "text": [
      "/Users/thbrown/Library/Enthought/Canopy_64bit/User/lib/python2.7/site-packages/IPython/kernel/__main__.py:6: RuntimeWarning: divide by zero encountered in log10\n",
      "[-0.49714987        -inf        -inf        -inf        -inf        -inf\n",
      " -0.49714987        -inf        -inf        -inf -0.49714987        -inf\n",
      "        -inf -0.49714987        -inf        -inf        -inf        -inf\n",
      "        -inf        -inf]\n",
      "[ 0.31830989  0.          0.          0.          0.          0.\n",
      "  0.31830989  0.          0.          0.          0.31830989  0.          0.\n",
      "  0.31830989  0.          0.          0.          0.          0.          0.        ]\n",
      "/Users/thbrown/Library/Enthought/Canopy_64bit/User/lib/python2.7/site-packages/IPython/kernel/__main__.py:12: RuntimeWarning: divide by zero encountered in log10\n",
      "Warning: converting a masked element to nan.\n"
     ]
    }
   ],
   "source": [
    "# N/Mpc^2 vs Mhalo (NUV-r colours)\n",
    "\n",
    "import matplotlib.pyplot as plt\n",
    "import numpy as np\n",
    "\n",
    "\n",
    "\n",
    "cm = plt.cm.get_cmap('jet')\n",
    "\n",
    "\n",
    "sc = plt.scatter(np.log10(N_Mpc2), halo, c=nuvr, vmin=1, vmax=8, s=35, cmap=cm, edgecolor = 'none')\n",
    "cbar = plt.colorbar(sc)\n",
    "cbar.set_label('NUV-r', rotation=90, fontsize=18)\n",
    "plt.xlim(0,2)\n",
    "plt.ylim(11.5,15)\n",
    "plt.xlabel('log N/Mpc^2', fontsize=18)\n",
    "plt.ylabel('log halo mass [Msol]', fontsize=18)\n",
    "\n",
    "plt.savefig(plotdir+'density2_mhalo_nuvr.pdf')\n",
    "plt.clf()"
   ]
  },
  {
   "cell_type": "code",
   "execution_count": 14,
   "metadata": {
    "collapsed": false
   },
   "outputs": [
    {
     "ename": "NameError",
     "evalue": "name 'N' is not defined",
     "output_type": "error",
     "traceback": [
      "\u001b[0;31m---------------------------------------------------------------------------\u001b[0m",
      "\u001b[0;31mNameError\u001b[0m                                 Traceback (most recent call last)",
      "\u001b[0;32m<ipython-input-14-77f11956b528>\u001b[0m in \u001b[0;36m<module>\u001b[0;34m()\u001b[0m\n\u001b[1;32m      4\u001b[0m \u001b[0;32mimport\u001b[0m \u001b[0mnumpy\u001b[0m \u001b[0;32mas\u001b[0m \u001b[0mnp\u001b[0m\u001b[0;34m\u001b[0m\u001b[0m\n\u001b[1;32m      5\u001b[0m \u001b[0;34m\u001b[0m\u001b[0m\n\u001b[0;32m----> 6\u001b[0;31m \u001b[0;32mprint\u001b[0m \u001b[0mN\u001b[0m\u001b[0;34m\u001b[0m\u001b[0m\n\u001b[0m\u001b[1;32m      7\u001b[0m \u001b[0;32mprint\u001b[0m \u001b[0mnp\u001b[0m\u001b[0;34m.\u001b[0m\u001b[0mlog10\u001b[0m\u001b[0;34m(\u001b[0m\u001b[0mN_Mpc2\u001b[0m\u001b[0;34m[\u001b[0m\u001b[0;36m0\u001b[0m\u001b[0;34m:\u001b[0m\u001b[0;36m20\u001b[0m\u001b[0;34m]\u001b[0m\u001b[0;34m)\u001b[0m\u001b[0;34m\u001b[0m\u001b[0m\n\u001b[1;32m      8\u001b[0m \u001b[0;32mprint\u001b[0m \u001b[0mN_Mpc2\u001b[0m\u001b[0;34m[\u001b[0m\u001b[0;36m0\u001b[0m\u001b[0;34m:\u001b[0m\u001b[0;36m20\u001b[0m\u001b[0;34m]\u001b[0m\u001b[0;34m\u001b[0m\u001b[0m\n",
      "\u001b[0;31mNameError\u001b[0m: name 'N' is not defined"
     ]
    }
   ],
   "source": [
    "# N/Mpc^3 vs Mhalo (NUV-r colours)\n",
    "\n",
    "import matplotlib.pyplot as plt\n",
    "import numpy as np\n",
    "\n",
    "print np.log10(N_Mpc2[0:20])\n",
    "print N_Mpc2[0:20]s\n",
    "\n",
    "cm = plt.cm.get_cmap('jet')\n",
    "\n",
    "\n",
    "sc = plt.scatter(np.log10(N_Mpc3), halo, c=nuvr, vmin=1, vmax=8, s=35, cmap=cm, edgecolor = 'none')\n",
    "cbar = plt.colorbar(sc)\n",
    "cbar.set_label('NUV-r', rotation=90, fontsize=18)\n",
    "plt.xlim(0,2.)\n",
    "plt.ylim(11.5,15)\n",
    "plt.xlabel('log N/Mpc^3', fontsize=18)\n",
    "plt.ylabel('log halo mass [Msol]', fontsize=18)\n",
    "plt.xscale('log')\n",
    "\n",
    "\n",
    "plt.savefig(plotdir+'density3_mhalo_nuvr.pdf')\n",
    "plt.clf()"
   ]
  },
  {
   "cell_type": "code",
   "execution_count": 36,
   "metadata": {
    "collapsed": false
   },
   "outputs": [
    {
     "name": "stdout",
     "output_type": "stream",
     "text": [
      "/Users/thbrown/Library/Enthought/Canopy_64bit/User/lib/python2.7/site-packages/IPython/kernel/__main__.py:10: RuntimeWarning: divide by zero encountered in log10\n"
     ]
    }
   ],
   "source": [
    "# N/Mpc^2 vs Mhalo (mu colours)\n",
    "\n",
    "import matplotlib.pyplot as plt\n",
    "import numpy as np\n",
    "\n",
    "\n",
    "cm = plt.cm.get_cmap('jet')\n",
    "\n",
    "\n",
    "sc = plt.scatter(np.log10(N_Mpc2), halo, c=mu,  vmin=7, vmax=10, s=35, cmap=cm, edgecolor = 'none')\n",
    "cbar = plt.colorbar(sc)\n",
    "cbar.set_label('log surface density [Msol kpc^-2]', rotation=90, fontsize=18)\n",
    "plt.xlim(0,2)\n",
    "plt.ylim(11.5,15)\n",
    "plt.xlabel('log N/Mpc^2', fontsize=18)\n",
    "plt.ylabel('log halo mass [Msol]', fontsize=18)\n",
    "\n",
    "\n",
    "plt.savefig(plotdir+'density2_mhalo_mu.pdf')\n",
    "plt.clf()"
   ]
  },
  {
   "cell_type": "code",
   "execution_count": 6,
   "metadata": {
    "collapsed": false
   },
   "outputs": [
    {
     "name": "stdout",
     "output_type": "stream",
     "text": [
      "/Users/thbrown/Library/Enthought/Canopy_64bit/User/lib/python2.7/site-packages/IPython/kernel/__main__.py:10: RuntimeWarning: divide by zero encountered in log10\n"
     ]
    }
   ],
   "source": [
    "# N/Mpc^3 vs Mhalo (NUV-r colours)\n",
    "\n",
    "import matplotlib.pyplot as plt\n",
    "import numpy as np\n",
    "\n",
    "\n",
    "cm = plt.cm.get_cmap('jet')\n",
    "\n",
    "\n",
    "sc = plt.scatter(np.log10(N_Mpc3), halo, c=mu, vmin=7, vmax=10, s=35, cmap=cm, edgecolor = 'none')\n",
    "cbar = plt.colorbar(sc)\n",
    "cbar.set_label('log surface density [Msol kpc^-2]', rotation=90, fontsize=18)\n",
    "plt.xlim(0,2.)\n",
    "plt.ylim(11.5,15)\n",
    "plt.xlabel('log N/Mpc^3', fontsize=18)\n",
    "plt.ylabel('log halo mass [Msol]', fontsize=18)\n",
    "\n",
    "plt.savefig(plotdir+'density3_mhalo_mu.pdf')\n",
    "plt.clf()"
   ]
  },
  {
   "cell_type": "code",
   "execution_count": 43,
   "metadata": {
    "collapsed": false
   },
   "outputs": [
    {
     "name": "stdout",
     "output_type": "stream",
     "text": [
      "/Users/thbrown/Library/Enthought/Canopy_64bit/User/lib/python2.7/site-packages/IPython/kernel/__main__.py:10: RuntimeWarning: divide by zero encountered in log10\n",
      "d\n"
     ]
    }
   ],
   "source": [
    "# M* vs Mhalo (NUV-r colours)\n",
    "\n",
    "import matplotlib.pyplot as plt\n",
    "import numpy as np\n",
    "\n",
    "\n",
    "cm = plt.cm.get_cmap('jet')\n",
    "\n",
    "\n",
    "sc = plt.scatter(ms, np.log10(N_Mpc2), c=nuvr, vmin=1, vmax=8, s=35, cmap=cm, edgecolor = 'none')\n",
    "cbar = plt.colorbar(sc)\n",
    "cbar.set_label('NUV-r', rotation=90, fontsize=18)\n",
    "plt.xlim(9,11.5)\n",
    "plt.ylim(0,2)\n",
    "plt.xlabel('log stellar mass [Msol]', fontsize=18)\n",
    "plt.ylabel('log N/Mpc^2', fontsize=18)\n",
    "\n",
    "plt.savefig(plotdir+'ms_density_nuvr.pdf')\n",
    "plt.clf()\n",
    "print 'd'"
   ]
  },
  {
   "cell_type": "code",
   "execution_count": null,
   "metadata": {
    "collapsed": true
   },
   "outputs": [],
   "source": []
  }
 ],
 "metadata": {
  "kernelspec": {
   "display_name": "Python 2",
   "language": "python",
   "name": "python2"
  },
  "language_info": {
   "codemirror_mode": {
    "name": "ipython",
    "version": 2
   },
   "file_extension": ".py",
   "mimetype": "text/x-python",
   "name": "python",
   "nbconvert_exporter": "python",
   "pygments_lexer": "ipython2",
   "version": "2.7.3"
  }
 },
 "nbformat": 4,
 "nbformat_minor": 0
}
