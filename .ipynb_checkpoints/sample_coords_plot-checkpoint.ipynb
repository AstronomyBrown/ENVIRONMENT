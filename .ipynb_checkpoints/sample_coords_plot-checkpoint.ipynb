{
 "cells": [
  {
   "cell_type": "code",
   "execution_count": 6,
   "metadata": {
    "collapsed": false
   },
   "outputs": [
    {
     "name": "stdout",
     "output_type": "stream",
     "text": [
      "\n",
      "done!\n"
     ]
    }
   ],
   "source": [
    "# read in table data\n",
    "\n",
    "import pylab as p\n",
    "import pyfits\n",
    "import numpy as np\n",
    "from mpl_toolkits.mplot3d import Axes3D\n",
    "import matplotlib.pyplot as plt\n",
    "import matplotlib.cm as cm\n",
    "from astropy.cosmology import FlatLambdaCDM\n",
    "\n",
    "# Parameters needed:\n",
    "c = 299792458\n",
    "cosmo = FlatLambdaCDM(H0=70, Om0=0.3)\n",
    "\n",
    "path = '/Users/thbrown/AA_project/TOBY_STACKING/SAMPLES/FULL/ENVIRONMENT/'\n",
    "rfile = 'nuvr_halo_density.fits'\n",
    "\n",
    "hdulist = pyfits.open(path+rfile)\n",
    "\n",
    "tbdata = hdulist[1].data  # assuming the first extension is a table\n",
    "\n",
    "cols = hdulist[1].columns\n",
    "\n",
    "ID = tbdata['ID']\n",
    "\n",
    "# coordinates\n",
    "ra = tbdata['RA']\n",
    "dec = tbdata['DEC']\n",
    "z = tbdata['Z']\n",
    "# environment data\n",
    "ra_grp = tbdata['RA_grp']\n",
    "dec_grp = tbdata['DEC_grp']\n",
    "z_grp = tbdata['Z_grp']\n",
    "grp_L = tbdata['grp_L']\n",
    "haloM_L = tbdata['haloM_L']\n",
    "N_Mpc2 = tbdata['N_Mpc2']\n",
    "N_Mpc3 = tbdata['N_Mpc3']\n",
    "\n",
    "# gal properties\n",
    "NUVr = tbdata['NUV_r']\n",
    "lgMst = tbdata['lgMst_median']\n",
    "SN = tbdata['SN']\n",
    "code = tbdata['code']\n",
    "log_MHI = tbdata['log_MHI']\n",
    "lumdist = cosmo.luminosity_distance(z) # luminosity distance in Mpcs\n",
    "\n",
    "print ''\n",
    "print 'done!'\n",
    "\n"
   ]
  },
  {
   "cell_type": "code",
   "execution_count": 25,
   "metadata": {
    "collapsed": false
   },
   "outputs": [],
   "source": [
    "import astropy.coordinates.distances as distances\n",
    "\n",
    "datamin=min(haloM_L)\n",
    "datamax=max(haloM_L)\n",
    "fig=p.figure()\n",
    "\n",
    "# Determine Cartesian coordinates between two objects\n",
    "x = lumdist*np.cos(ra)*np.cos(dec)\n",
    "y = lumdist*np.sin(ra)*np.cos(dec)\n",
    "z = lumdist*np.sin(dec)\n",
    "\n",
    "\n",
    "# coord = distances.spherical_to_cartesian(lumdist, ra, dec)\n",
    "\n",
    "# print coord[0]\n",
    "\n",
    "ax3D=fig.add_subplot(111, projection='3d')\n",
    "collection = ax3D.scatter(x ,y, z, c=haloM_L, vmin=datamin, vmax=datamax, marker='o', cmap=cm.Spectral)\n",
    "\n",
    "\n",
    "p.title(\"Galaxy position\")\n",
    "ax3D.set_xlabel('x')\n",
    "ax3D.set_ylabel('y')\n",
    "ax3D.set_zlabel('Z')\n",
    "p.show()"
   ]
  },
  {
   "cell_type": "code",
   "execution_count": 13,
   "metadata": {
    "collapsed": false
   },
   "outputs": [],
   "source": [
    "# Learn about API authentication here: https://plot.ly/python/getting-started\n",
    "# Find your api_key here: https://plot.ly/settings/api\n",
    "\n",
    "import plotly.plotly as py\n",
    "from plotly.graph_objs import *\n",
    "\n",
    "py.sign_in('thbrown', '6xem0p47u1')\n",
    "\n",
    "trace1 = Scatter3d(\n",
    "    x=x,\n",
    "    y=y,\n",
    "    z=z,\n",
    "    mode='markers',\n",
    "    marker=Marker(\n",
    "        size=1,\n",
    "        line=Line(\n",
    "            color='red',\n",
    "            width=0.5\n",
    "        ),\n",
    "        opacity=0.8\n",
    "    )\n",
    ")\n"
   ]
  },
  {
   "cell_type": "code",
   "execution_count": 14,
   "metadata": {
    "collapsed": false
   },
   "outputs": [
    {
     "data": {
      "text/html": [
       "<iframe id=\"igraph\" scrolling=\"no\" style=\"border:none;\"seamless=\"seamless\" src=\"https://plot.ly/~thbrown/14.embed\" height=\"525\" width=\"100%\"></iframe>"
      ],
      "text/plain": [
       "<plotly.tools.PlotlyDisplay object>"
      ]
     },
     "execution_count": 14,
     "metadata": {},
     "output_type": "execute_result"
    }
   ],
   "source": [
    "# data = Data([trace1, trace2])\n",
    "data = Data([trace1])\n",
    "\n",
    "# Dictionary of style options for all axes\n",
    "axis = dict(\n",
    "    showbackground=True, # (!) show axis background\n",
    "    backgroundcolor=\"rgb(204, 204, 204)\", # set background color to grey\n",
    "    gridcolor=\"rgb(255, 255, 255)\",       # set grid line color\n",
    "    zerolinecolor=\"rgb(255, 255, 255)\",   # set zero grid line color\n",
    ")\n",
    "\n",
    "# Make a layout object\n",
    "layout = Layout(\n",
    "    title='$f(x,y) = A \\cos(\\pi x y) e^{-(x^2+y^2)/2}$', # set plot title\n",
    "    scene=Scene(  # (!) axes are part of a 'scene' in 3d plots\n",
    "        xaxis=XAxis(axis), # set x-axis style\n",
    "        yaxis=YAxis(axis), # set y-axis style\n",
    "        zaxis=ZAxis(axis)  # set z-axis style\n",
    "    )\n",
    ")\n",
    "\n",
    "\n",
    "fig = Figure(data=data, layout=layout)\n",
    "py.iplot(data, filename = 'basic-line')\n",
    "\n"
   ]
  },
  {
   "cell_type": "code",
   "execution_count": 20,
   "metadata": {
    "collapsed": true
   },
   "outputs": [],
   "source": []
  },
  {
   "cell_type": "code",
   "execution_count": 34,
   "metadata": {
    "collapsed": false
   },
   "outputs": [
    {
     "name": "stderr",
     "output_type": "stream",
     "text": [
      "ERROR:astropy:ImportError: No module named urllib3.contrib.pyopenssl\n"
     ]
    },
    {
     "name": "stdout",
     "output_type": "stream",
     "text": [
      "ERROR: ImportError: No module named urllib3.contrib.pyopenssl [IPython.core.interactiveshell]\n"
     ]
    },
    {
     "ename": "ImportError",
     "evalue": "No module named urllib3.contrib.pyopenssl",
     "output_type": "error",
     "traceback": [
      "\u001b[0;31m---------------------------------------------------------------------------\u001b[0m",
      "\u001b[0;31mImportError\u001b[0m                               Traceback (most recent call last)",
      "\u001b[0;32m<ipython-input-34-1955892e5fdd>\u001b[0m in \u001b[0;36m<module>\u001b[0;34m()\u001b[0m\n\u001b[0;32m----> 1\u001b[0;31m \u001b[0;32mimport\u001b[0m \u001b[0murllib3\u001b[0m\u001b[0;34m.\u001b[0m\u001b[0mcontrib\u001b[0m\u001b[0;34m.\u001b[0m\u001b[0mpyopenssl\u001b[0m\u001b[0;34m\u001b[0m\u001b[0m\n\u001b[0m\u001b[1;32m      2\u001b[0m \u001b[0murllib3\u001b[0m\u001b[0;34m.\u001b[0m\u001b[0mcontrib\u001b[0m\u001b[0;34m.\u001b[0m\u001b[0mpyopenssl\u001b[0m\u001b[0;34m.\u001b[0m\u001b[0minject_into_urllib3\u001b[0m\u001b[0;34m(\u001b[0m\u001b[0;34m)\u001b[0m\u001b[0;34m\u001b[0m\u001b[0m\n",
      "\u001b[0;31mImportError\u001b[0m: No module named urllib3.contrib.pyopenssl"
     ]
    }
   ],
   "source": [
    "import urllib3.contrib.pyopenssl\n",
    "urllib3.contrib.pyopenssl.inject_into_urllib3()"
   ]
  },
  {
   "cell_type": "code",
   "execution_count": null,
   "metadata": {
    "collapsed": true
   },
   "outputs": [],
   "source": []
  }
 ],
 "metadata": {
  "kernelspec": {
   "display_name": "Python 2",
   "language": "python",
   "name": "python2"
  },
  "language_info": {
   "codemirror_mode": {
    "name": "ipython",
    "version": 2
   },
   "file_extension": ".py",
   "mimetype": "text/x-python",
   "name": "python",
   "nbconvert_exporter": "python",
   "pygments_lexer": "ipython2",
   "version": "2.7.3"
  }
 },
 "nbformat": 4,
 "nbformat_minor": 0
}
