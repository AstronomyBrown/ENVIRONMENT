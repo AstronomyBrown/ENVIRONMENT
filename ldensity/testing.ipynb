{
 "cells": [
  {
   "cell_type": "code",
   "execution_count": 54,
   "metadata": {
    "collapsed": false
   },
   "outputs": [
    {
     "name": "stdout",
     "output_type": "stream",
     "text": [
      "\n",
      "done!\n"
     ]
    }
   ],
   "source": [
    "%matplotlib inline\n",
    "import numpy as np\n",
    "import pyfits\n",
    "from astropy.cosmology import FlatLambdaCDM\n",
    "from astropy.coordinates import SkyCoord, Distance\n",
    "from astropy import units as u\n",
    "import matplotlib.pyplot as plt\n",
    "\n",
    "# Constants\n",
    "ang_sep = 2.86  # max Angle of separation\n",
    "H0 = 70.  # Hubble constant\n",
    "c = 299792.458  # c [km/s]\n",
    "rs_dif = 0.0016666  # Maximum z difference allowed for object within +/- 500 km/s\n",
    "\n",
    "# set cosmology\n",
    "cosmo = FlatLambdaCDM(H0=70., Om0=0.3) # cosmology\n",
    "\n",
    "print ''\n",
    "print 'done!'"
   ]
  },
  {
   "cell_type": "code",
   "execution_count": 55,
   "metadata": {
    "collapsed": false
   },
   "outputs": [
    {
     "name": "stdout",
     "output_type": "stream",
     "text": [
      "<type 'numpy.ndarray'>\n",
      "number of objects:  30368\n",
      "\n",
      "done!\n"
     ]
    }
   ],
   "source": [
    "# read my data\n",
    "path = '/Users/thbrown/AA_project/TOBY_STACKING/SAMPLES/FULL/masters/'\n",
    "rfile = 'sample_master.fits'\n",
    "\n",
    "\n",
    "hdulist = pyfits.open(path+rfile)\n",
    "data = hdulist[1].data  # assuming the first extension is a table\n",
    "cols = hdulist[1].columns\n",
    "\n",
    "ID = np.array(data['ID'])\n",
    "rs = np.array(data['Z'])\n",
    "ra = np.array(data['RA'])\n",
    "dec = np.array(data['DEC'])\n",
    "\n",
    "print type(ra)\n",
    "\n",
    "print 'number of objects: ', len(ID)\n",
    "print ''\n",
    "print 'done!'"
   ]
  },
  {
   "cell_type": "code",
   "execution_count": 50,
   "metadata": {
    "collapsed": false
   },
   "outputs": [
    {
     "name": "stdout",
     "output_type": "stream",
     "text": [
      "[ True  True  True ...,  True  True  True]\n"
     ]
    },
    {
     "ename": "NameError",
     "evalue": "name 'die' is not defined",
     "output_type": "error",
     "traceback": [
      "\u001b[0;31m---------------------------------------------------------------------------\u001b[0m",
      "\u001b[0;31mNameError\u001b[0m                                 Traceback (most recent call last)",
      "\u001b[0;32m<ipython-input-50-2eb41cdd5769>\u001b[0m in \u001b[0;36m<module>\u001b[0;34m()\u001b[0m\n\u001b[1;32m     14\u001b[0m \u001b[0;34m\u001b[0m\u001b[0m\n\u001b[1;32m     15\u001b[0m \u001b[0;32mprint\u001b[0m \u001b[0mlumdist_arr\u001b[0m \u001b[0;34m==\u001b[0m \u001b[0mtest_lumdist\u001b[0m\u001b[0;34m\u001b[0m\u001b[0m\n\u001b[0;32m---> 16\u001b[0;31m \u001b[0mdie\u001b[0m\u001b[0;34m\u001b[0m\u001b[0m\n\u001b[0m\u001b[1;32m     17\u001b[0m \u001b[0mx\u001b[0m \u001b[0;34m=\u001b[0m \u001b[0mlumdist_arr\u001b[0m\u001b[0;34m*\u001b[0m\u001b[0mnp\u001b[0m\u001b[0;34m.\u001b[0m\u001b[0msin\u001b[0m\u001b[0;34m(\u001b[0m\u001b[0mc\u001b[0m\u001b[0;34m.\u001b[0m\u001b[0mdec\u001b[0m\u001b[0;34m.\u001b[0m\u001b[0mto\u001b[0m\u001b[0;34m(\u001b[0m\u001b[0mu\u001b[0m\u001b[0;34m.\u001b[0m\u001b[0mradian\u001b[0m\u001b[0;34m)\u001b[0m\u001b[0;34m)\u001b[0m\u001b[0;34m*\u001b[0m\u001b[0mnp\u001b[0m\u001b[0;34m.\u001b[0m\u001b[0mcos\u001b[0m\u001b[0;34m(\u001b[0m\u001b[0mc\u001b[0m\u001b[0;34m.\u001b[0m\u001b[0mra\u001b[0m\u001b[0;34m.\u001b[0m\u001b[0mto\u001b[0m\u001b[0;34m(\u001b[0m\u001b[0mu\u001b[0m\u001b[0;34m.\u001b[0m\u001b[0mradian\u001b[0m\u001b[0;34m)\u001b[0m\u001b[0;34m)\u001b[0m\u001b[0;34m\u001b[0m\u001b[0m\n\u001b[1;32m     18\u001b[0m \u001b[0my\u001b[0m \u001b[0;34m=\u001b[0m \u001b[0mlumdist_arr\u001b[0m\u001b[0;34m*\u001b[0m\u001b[0mnp\u001b[0m\u001b[0;34m.\u001b[0m\u001b[0msin\u001b[0m\u001b[0;34m(\u001b[0m\u001b[0mc\u001b[0m\u001b[0;34m.\u001b[0m\u001b[0mra\u001b[0m\u001b[0;34m.\u001b[0m\u001b[0mto\u001b[0m\u001b[0;34m(\u001b[0m\u001b[0mu\u001b[0m\u001b[0;34m.\u001b[0m\u001b[0mradian\u001b[0m\u001b[0;34m)\u001b[0m\u001b[0;34m)\u001b[0m\u001b[0;34m*\u001b[0m\u001b[0mnp\u001b[0m\u001b[0;34m.\u001b[0m\u001b[0msin\u001b[0m\u001b[0;34m(\u001b[0m\u001b[0mc\u001b[0m\u001b[0;34m.\u001b[0m\u001b[0mdec\u001b[0m\u001b[0;34m.\u001b[0m\u001b[0mto\u001b[0m\u001b[0;34m(\u001b[0m\u001b[0mu\u001b[0m\u001b[0;34m.\u001b[0m\u001b[0mradian\u001b[0m\u001b[0;34m)\u001b[0m\u001b[0;34m)\u001b[0m\u001b[0;34m\u001b[0m\u001b[0m\n",
      "\u001b[0;31mNameError\u001b[0m: name 'die' is not defined"
     ]
    }
   ],
   "source": [
    "# Fixed Aperture brute force\n",
    "ap_mpc = 10. # fixed Aperture (Mpc)\n",
    "\n",
    "ID_TARGET_GALAXY = []\n",
    "N = []\n",
    "N_cos = []\n",
    "\n",
    "# ra, dec, luminosity distance\n",
    "rarad_arr = ra * np.pi/180\n",
    "decrad_arr = dec * np.pi/180\n",
    "\n",
    "\n",
    "print lumdist_arr == test_lumdist\n",
    "die \n",
    "x = lumdist_arr*np.sin(c.dec.to(u.radian))*np.cos(c.ra.to(u.radian))\n",
    "y = lumdist_arr*np.sin(c.ra.to(u.radian))*np.sin(c.dec.to(u.radian))\n",
    "z = lumdist_arr*np.cos(c.dec.to(u.radian))\n",
    "\n",
    "\n",
    "c = SkyCoord(ra=ra*u.degree, dec=dec*u.degree, distance=Distance(z=rs, cosmology=cosmo))\n",
    "\n",
    "for i in range(10):\n",
    "\n",
    "    successful_matches = []\n",
    "\n",
    "    cnt = 1 # counts for area and volume densities\n",
    "    cnt_cos = 1\n",
    "    \n",
    "    # object 1 ra, dec\n",
    "    x_min = x[i] - 1*u.Mpc\n",
    "    x_max = x[i] + 1*u.Mpc\n",
    "    y_min = y[i] - 1*u.Mpc\n",
    "    y_max = y[i] + 1*u.Mpc\n",
    "    z_min = z[i] - 1*u.Mpc\n",
    "    z_max = z[i] + 1*u.Mpc\n",
    "    \n",
    "    cond = np.where((x >= x_min) & (x <= x_max) &\n",
    "                        (y >= y_min) & (y <= y_max) &\n",
    "                           (z >= z_min) & (z <= z_max))\n",
    "    \n",
    "    N.append(len(x[cond]))\n",
    "print N"
   ]
  },
  {
   "cell_type": "code",
   "execution_count": 12,
   "metadata": {
    "collapsed": false
   },
   "outputs": [
    {
     "name": "stdout",
     "output_type": "stream",
     "text": [
      "[1, 1, 1, 2, 3, 3, 6, 1, 1, 4]\n"
     ]
    }
   ],
   "source": [
    "\n",
    "# Fixed Aperture brute force\n",
    "ap_mpc = 1. # fixed Aperture (Mpc)\n",
    "\n",
    "ID_TARGET_GALAXY = []\n",
    "N = []\n",
    "N_cos = []\n",
    "\n",
    "# ra, dec, luminosity distance\n",
    "rarad_arr = ra * np.pi/180\n",
    "decrad_arr = dec * np.pi/180\n",
    "lumdist_arr = cosmo.luminosity_distance(rs)\n",
    "\n",
    "for i in range(10):\n",
    "\n",
    "    successful_matches = []\n",
    "\n",
    "    cnt = 1 # counts for area and volume densities\n",
    "    cnt_cos = 1\n",
    "    \n",
    "    # object 1 ra, dec\n",
    "    ra1rad = rarad_arr[i]\n",
    "    dec1rad = decrad_arr[i]\n",
    "    lumdist1 = lumdist_arr[i]            # luminosity distance to object 1\n",
    "\n",
    "    ra_u_lim = ra[i] + ang_sep\n",
    "    ra_l_lim = ra[i] - ang_sep\n",
    "    dec_u_lim = dec[i] + ang_sep\n",
    "    dec_l_lim = dec[i] - ang_sep\n",
    "    rs_u_lim = rs[i] + rs_dif\n",
    "    rs_l_lim = rs[i] - rs_dif\n",
    "    \n",
    "    cond = np.where((ra >= ra_l_lim) & (ra <= ra_u_lim) &\n",
    "                        (dec >= dec_l_lim) & (dec <= dec_u_lim) &\n",
    "                           (rs >= rs_l_lim) & (rs <= rs_u_lim))\n",
    "    \n",
    "    \n",
    "\n",
    "    # object 2 ra, dec\n",
    "    ra2rad = rarad_arr[cond]\n",
    "    dec2rad = decrad_arr[cond]\n",
    "    # luminosity distance to object 2\n",
    "    lumdist2 = lumdist_arr[cond]\n",
    "\n",
    "    ### haversines rule (ish) \n",
    "    #   ==> cos(theta) = sin(d1)sin(d2) + cos(d1)cos(d2)cos(ra1-ra2)\n",
    "    cos_seprad = (np.sin(dec1rad)*np.sin(dec2rad)) + \\\n",
    "                    (np.cos(dec1rad)*np.cos(dec2rad)*np.cos(ra1rad-ra2rad))\n",
    "\n",
    "    theta = np.arccos(cos_seprad) # angle of separation\n",
    "#     print theta\n",
    "    \n",
    "\n",
    "#     D_squared = lumdist1**2 + lumdist2**2 - (2 * lumdist1 * lumdist2 * cos_seprad) # law of cosines\n",
    "\n",
    "\n",
    "#     # alternate trig measures\n",
    "    phi = theta / 2.\n",
    "    angsep_Mpc = 2 * lumdist1 * np.sin(phi) # same distance from approx.\n",
    "#     #           tb_mod_angsep_Mpc_1 = (lumdist1 * np.sin(phi)) + (lumdist2 * np.sin(phi)) # two ra triangles\n",
    "\n",
    "\n",
    "#     #             print re_angsep_Mpc, np.sqrt(D_squared)\n",
    "#     #             print re_angsep_Mpc, tb_mod_angsep_Mpc_1, np.sqrt(D_squared)\n",
    "#     # Number with separation distance < app_mpc\n",
    "#     #             print np.sqrt(D_squared), app_mpc\n",
    "#     if np.sqrt(D_squared) <= ap_mpc:\n",
    "#     cnt_cos = cnt_cos + 1\n",
    "    N.append(len(angsep_Mpc[np.array(angsep_Mpc) <= 1]))\n",
    "print N\n",
    "#     N.append(cnt)\n",
    "#     N_cos.append(cnt_cos)\n",
    "[1, 1, 1, 1, 3, 2, 1, 1, 1]"
   ]
  },
  {
   "cell_type": "code",
   "execution_count": 21,
   "metadata": {
    "collapsed": false
   },
   "outputs": [
    {
     "name": "stdout",
     "output_type": "stream",
     "text": [
      "0.257756426375 deg\n",
      "243.5287713\n"
     ]
    },
    {
     "ename": "UnitsError",
     "evalue": "Can only apply 'add' function to dimensionless quantities when other argument is not a quantity (unless the latter is all zero/infinity/nan)",
     "output_type": "error",
     "traceback": [
      "\u001b[0;31m---------------------------------------------------------------------------\u001b[0m",
      "\u001b[0;31mUnitsError\u001b[0m                                Traceback (most recent call last)",
      "\u001b[0;32m<ipython-input-21-9b00bc65ca3b>\u001b[0m in \u001b[0;36m<module>\u001b[0;34m()\u001b[0m\n\u001b[1;32m     35\u001b[0m \u001b[0;34m\u001b[0m\u001b[0m\n\u001b[1;32m     36\u001b[0m \u001b[0;34m\u001b[0m\u001b[0m\n\u001b[0;32m---> 37\u001b[0;31m     \u001b[0mra_u_lim\u001b[0m \u001b[0;34m=\u001b[0m \u001b[0mra\u001b[0m\u001b[0;34m[\u001b[0m\u001b[0mi\u001b[0m\u001b[0;34m]\u001b[0m \u001b[0;34m+\u001b[0m \u001b[0mang_sep\u001b[0m\u001b[0;34m\u001b[0m\u001b[0m\n\u001b[0m\u001b[1;32m     38\u001b[0m     \u001b[0mra_l_lim\u001b[0m \u001b[0;34m=\u001b[0m \u001b[0mra\u001b[0m\u001b[0;34m[\u001b[0m\u001b[0mi\u001b[0m\u001b[0;34m]\u001b[0m \u001b[0;34m-\u001b[0m \u001b[0mang_sep\u001b[0m\u001b[0;34m\u001b[0m\u001b[0m\n\u001b[1;32m     39\u001b[0m     \u001b[0mdec_u_lim\u001b[0m \u001b[0;34m=\u001b[0m \u001b[0mdec\u001b[0m\u001b[0;34m[\u001b[0m\u001b[0mi\u001b[0m\u001b[0;34m]\u001b[0m \u001b[0;34m+\u001b[0m \u001b[0mang_sep\u001b[0m\u001b[0;34m\u001b[0m\u001b[0m\n",
      "\u001b[0;32m/Users/thbrown/Library/Enthought/Canopy_64bit/User/lib/python2.7/site-packages/astropy/units/quantity.pyc\u001b[0m in \u001b[0;36m__array_prepare__\u001b[0;34m(self, obj, context)\u001b[0m\n\u001b[1;32m    315\u001b[0m                                      \u001b[0;34m\"argument is not a quantity (unless the \"\u001b[0m\u001b[0;34m\u001b[0m\u001b[0m\n\u001b[1;32m    316\u001b[0m                                      \u001b[0;34m\"latter is all zero/infinity/nan)\"\u001b[0m\u001b[0;34m\u001b[0m\u001b[0m\n\u001b[0;32m--> 317\u001b[0;31m                                      .format(function.__name__))\n\u001b[0m\u001b[1;32m    318\u001b[0m             \u001b[0;32mexcept\u001b[0m \u001b[0mTypeError\u001b[0m\u001b[0;34m:\u001b[0m\u001b[0;34m\u001b[0m\u001b[0m\n\u001b[1;32m    319\u001b[0m                 \u001b[0;31m# _can_have_arbitrary_unit failed: arg could not be compared\u001b[0m\u001b[0;34m\u001b[0m\u001b[0;34m\u001b[0m\u001b[0m\n",
      "\u001b[0;31mUnitsError\u001b[0m: Can only apply 'add' function to dimensionless quantities when other argument is not a quantity (unless the latter is all zero/infinity/nan)"
     ]
    }
   ],
   "source": [
    "\n",
    "# Fixed Aperture brute force\n",
    "ap_mpc = 1. # fixed Aperture (Mpc)\n",
    "\n",
    "ID_TARGET_GALAXY = []\n",
    "N = []\n",
    "N_cos = []\n",
    "\n",
    "# ra, dec, luminosity distance\n",
    "rarad_arr = ra * np.pi/180\n",
    "decrad_arr = dec * np.pi/180\n",
    "lumdist_arr = cosmo.luminosity_distance(rs)\n",
    "\n",
    "for i in range(10):\n",
    "\n",
    "    successful_matches = []\n",
    "\n",
    "    cnt = 1 # counts for area and volume densities\n",
    "    cnt_cos = 1\n",
    "    \n",
    "    # object 1 ra, dec\n",
    "    ra1rad = rarad_arr[i]\n",
    "    dec1rad = decrad_arr[i]\n",
    "    lumdist1 = lumdist_arr[i]            # luminosity distance to object 1\n",
    "    \n",
    "#     print lumdist1\n",
    "\n",
    "    \n",
    "    max_phi = np.arcsin((0.5*u.Mpc)/lumdist1)\n",
    "    ang_sep = (2*max_phi)\n",
    "    ang_sep = ang_sep.to(u.degree)\n",
    "    print ang_sep\n",
    "    print ra[i]\n",
    "    \n",
    "\n",
    "\n",
    "    ra_u_lim = ra[i] + ang_sep\n",
    "    ra_l_lim = ra[i] - ang_sep\n",
    "    dec_u_lim = dec[i] + ang_sep\n",
    "    dec_l_lim = dec[i] - ang_sep\n",
    "    rs_u_lim = rs[i] + rs_dif\n",
    "    rs_l_lim = rs[i] - rs_dif\n",
    "    die\n",
    "    \n",
    "    \n",
    "    cond = np.where((ra >= ra_l_lim) & (ra <= ra_u_lim) &\n",
    "                        (dec >= dec_l_lim) & (dec <= dec_u_lim) &\n",
    "                           (rs >= rs_l_lim) & (rs <= rs_u_lim))\n",
    "    \n",
    "    \n",
    "\n",
    "    # object 2 ra, dec\n",
    "    ra2rad = rarad_arr[cond]\n",
    "    dec2rad = decrad_arr[cond]\n",
    "    # luminosity distance to object 2\n",
    "    lumdist2 = lumdist_arr[cond]\n",
    "\n",
    "    print len(ra2rad)\n",
    "    ### haversines rule (ish) \n",
    "    #   ==> cos(theta) = sin(d1)sin(d2) + cos(d1)cos(d2)cos(ra1-ra2)\n",
    "    cos_seprad = (np.sin(dec1rad)*np.sin(dec2rad)) + \\\n",
    "                    (np.cos(dec1rad)*np.cos(dec2rad)*np.cos(ra1rad-ra2rad))\n",
    "\n",
    "    theta = np.arccos(cos_seprad) # angle of separation\n",
    "#     print theta\n",
    "    \n",
    "\n",
    "#     D_squared = lumdist1**2 + lumdist2**2 - (2 * lumdist1 * lumdist2 * cos_seprad) # law of cosines\n",
    "\n",
    "\n",
    "#     # alternate trig measures\n",
    "    phi = theta / 2.\n",
    "    angsep_Mpc = 2 * lumdist1 * np.sin(phi) # same distance from approx.\n",
    "#     #           tb_mod_angsep_Mpc_1 = (lumdist1 * np.sin(phi)) + (lumdist2 * np.sin(phi)) # two ra triangles\n",
    "\n",
    "\n",
    "#     #             print re_angsep_Mpc, np.sqrt(D_squared)\n",
    "#     #             print re_angsep_Mpc, tb_mod_angsep_Mpc_1, np.sqrt(D_squared)\n",
    "#     # Number with separation distance < app_mpc\n",
    "#     #             print np.sqrt(D_squared), app_mpc\n",
    "#     if np.sqrt(D_squared) <= ap_mpc:\n",
    "#     cnt_cos = cnt_cos + 1\n",
    "    N.append(len(angsep_Mpc[np.array(angsep_Mpc) <= 1]))\n",
    "print N\n",
    "#     N.append(cnt)\n",
    "#     N_cos.append(cnt_cos)\n",
    "[1, 1, 1, 1, 3, 2, 1, 1, 1]"
   ]
  },
  {
   "cell_type": "code",
   "execution_count": 64,
   "metadata": {
    "collapsed": false
   },
   "outputs": [
    {
     "name": "stdout",
     "output_type": "stream",
     "text": [
      "Populating the interactive namespace from numpy and matplotlib\n"
     ]
    },
    {
     "ename": "NameError",
     "evalue": "name 'fa_cnt' is not defined",
     "output_type": "error",
     "traceback": [
      "\u001b[0;31m---------------------------------------------------------------------------\u001b[0m",
      "\u001b[0;31mNameError\u001b[0m                                 Traceback (most recent call last)",
      "\u001b[0;32m<ipython-input-64-f630973ce8c0>\u001b[0m in \u001b[0;36m<module>\u001b[0;34m()\u001b[0m\n\u001b[1;32m     18\u001b[0m \u001b[0;34m\u001b[0m\u001b[0m\n\u001b[1;32m     19\u001b[0m \u001b[0;32mfor\u001b[0m \u001b[0mi\u001b[0m \u001b[0;32min\u001b[0m \u001b[0mrange\u001b[0m\u001b[0;34m(\u001b[0m\u001b[0;36m0\u001b[0m\u001b[0;34m,\u001b[0m \u001b[0mlen\u001b[0m\u001b[0;34m(\u001b[0m\u001b[0mra\u001b[0m\u001b[0;34m)\u001b[0m\u001b[0;34m)\u001b[0m\u001b[0;34m:\u001b[0m\u001b[0;34m\u001b[0m\u001b[0m\n\u001b[0;32m---> 20\u001b[0;31m     \u001b[0mfa_cnt\u001b[0m\u001b[0;34m.\u001b[0m\u001b[0mappend\u001b[0m\u001b[0;34m(\u001b[0m\u001b[0mlen\u001b[0m\u001b[0;34m(\u001b[0m\u001b[0midx1\u001b[0m\u001b[0;34m[\u001b[0m\u001b[0midx1\u001b[0m \u001b[0;34m==\u001b[0m \u001b[0mi\u001b[0m\u001b[0;34m]\u001b[0m\u001b[0;34m)\u001b[0m\u001b[0;34m)\u001b[0m\u001b[0;34m\u001b[0m\u001b[0m\n\u001b[0m\u001b[1;32m     21\u001b[0m \u001b[0;34m\u001b[0m\u001b[0m\n\u001b[1;32m     22\u001b[0m \u001b[0;32mprint\u001b[0m \u001b[0mc\u001b[0m\u001b[0;34m.\u001b[0m\u001b[0mrepresentation\u001b[0m\u001b[0;34m\u001b[0m\u001b[0m\n",
      "\u001b[0;31mNameError\u001b[0m: name 'fa_cnt' is not defined"
     ]
    }
   ],
   "source": [
    "import pylab as p\n",
    "%pylab qt\n",
    "from mpl_toolkits.mplot3d import Axes3D\n",
    "import matplotlib.pyplot as plt\n",
    "import matplotlib.cm as cm\n",
    "\n",
    "datamin=min(z)\n",
    "datamax=max(z)\n",
    "# fig=p.figure()\n",
    "\n",
    "rarad_arr = ra * np.pi/180\n",
    "decrad_arr = dec * np.pi/180\n",
    "lumdist_arr = cosmo.luminosity_distance(rs)\n",
    "\n",
    "c = SkyCoord(ra=ra*u.degree, dec=dec*u.degree, distance=Distance(z=rs, cosmology=cosmo))\n",
    "\n",
    "idx1,idx2, d2d, d3d = c.search_around_3d(c, 1*u.Mpc)  \n",
    "\n",
    "for i in range(0, len(ra)):\n",
    "    fa_cnt.append(len(idx1[idx1 == i]))\n",
    "\n",
    "print c.representation\n",
    "# Determine Cartesian coordinates between two objects\n",
    "x = c.cartesian.x\n",
    "y = c.cartesian.y\n",
    "z = c.cartesian.z\n",
    "print z - lumdist_arr*np.sin(decrad_arr)\n",
    "print z[-3], lumdist_arr[-3]*np.sin(decrad_arr[-3])\n",
    " \n",
    "die\n",
    "x = lumdist_arr*np.sin(c.dec.to(u.radian))*np.cos(c.ra.to(u.radian))\n",
    "y = lumdist_arr*np.sin(c.ra.to(u.radian))*np.sin(c.dec.to(u.radian))\n",
    "z = lumdist_arr*np.cos(c.dec.to(u.radian))\n",
    "\n",
    "\n",
    "# coord = distances.spherical_to_cartesian(lumdist, ra, dec)\n",
    "\n",
    "# print coord[0]\n",
    "\n",
    "ax3D=fig.add_subplot(111, projection='3d')\n",
    "collection = ax3D.scatter(x ,y, z, marker='o', cmap=cm.Spectral)\n",
    "\n",
    "\n",
    "p.title(\"Galaxy position\")\n",
    "ax3D.set_xlabel('x')\n",
    "ax3D.set_ylabel('y')\n",
    "ax3D.set_zlabel('Z')\n",
    "p.show()"
   ]
  },
  {
   "cell_type": "code",
   "execution_count": null,
   "metadata": {
    "collapsed": true
   },
   "outputs": [],
   "source": [
    "plt.plot(x,y,z_"
   ]
  }
 ],
 "metadata": {
  "kernelspec": {
   "display_name": "Python 2",
   "language": "python",
   "name": "python2"
  },
  "language_info": {
   "codemirror_mode": {
    "name": "ipython",
    "version": 2
   },
   "file_extension": ".py",
   "mimetype": "text/x-python",
   "name": "python",
   "nbconvert_exporter": "python",
   "pygments_lexer": "ipython2",
   "version": "2.7.3"
  }
 },
 "nbformat": 4,
 "nbformat_minor": 0
}
