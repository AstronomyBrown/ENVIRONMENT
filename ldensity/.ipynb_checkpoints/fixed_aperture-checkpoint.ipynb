{
 "cells": [
  {
   "cell_type": "code",
   "execution_count": 1,
   "metadata": {
    "collapsed": false
   },
   "outputs": [
    {
     "data": {
      "text/html": [
       "<script>\n",
       "code_show=true; \n",
       "function code_toggle() {\n",
       " if (code_show){\n",
       " $('div.input').hide();\n",
       " } else {\n",
       " $('div.input').show();\n",
       " }\n",
       " code_show = !code_show\n",
       "} \n",
       "$( document ).ready(code_toggle);\n",
       "</script>\n",
       "<form action=\"javascript:code_toggle()\"><input type=\"submit\" value=\"Click here to toggle on/off the raw code.\"></form>"
      ],
      "text/plain": [
       "<IPython.core.display.HTML object>"
      ]
     },
     "execution_count": 1,
     "metadata": {},
     "output_type": "execute_result"
    }
   ],
   "source": [
    "from IPython.display import HTML\n",
    "\n",
    "HTML('''<script>\n",
    "code_show=true; \n",
    "function code_toggle() {\n",
    " if (code_show){\n",
    " $('div.input').hide();\n",
    " } else {\n",
    " $('div.input').show();\n",
    " }\n",
    " code_show = !code_show\n",
    "} \n",
    "$( document ).ready(code_toggle);\n",
    "</script>\n",
    "<form action=\"javascript:code_toggle()\"><input type=\"submit\" value=\"Click here to toggle on/off the raw code.\"></form>''')"
   ]
  },
  {
   "cell_type": "code",
   "execution_count": 43,
   "metadata": {
    "collapsed": false
   },
   "outputs": [
    {
     "name": "stdout",
     "output_type": "stream",
     "text": [
      "\n",
      "done!\n"
     ]
    }
   ],
   "source": [
    "%matplotlib inline\n",
    "import numpy as np\n",
    "import pyfits\n",
    "from astropy import cosmology\n",
    "from astropy.cosmology import FlatLambdaCDM\n",
    "from astropy.coordinates import SkyCoord, Distance\n",
    "from astropy import units as u\n",
    "import matplotlib.pyplot as plt\n",
    "\n",
    "# Constants\n",
    "ang_sep = 2.86  # max Angle of separation\n",
    "H0 = 70.  # Hubble constant\n",
    "c = 299792.458  # c [km/s]\n",
    "rs_dif = 0.0016666  # Maximum z difference allowed for object within +/- 500 km/s\n",
    "\n",
    "# set cosmology\n",
    "cosmo = FlatLambdaCDM(H0=70., Om0=0.3) # cosmology\n",
    "\n",
    "print ''\n",
    "print 'done!'"
   ]
  },
  {
   "cell_type": "code",
   "execution_count": 44,
   "metadata": {
    "collapsed": false
   },
   "outputs": [
    {
     "name": "stdout",
     "output_type": "stream",
     "text": [
      "<type 'numpy.ndarray'>\n",
      "number of objects:  23513\n",
      "\n",
      "done!\n"
     ]
    }
   ],
   "source": [
    "# read my data\n",
    "path = '/Users/thbrown/AA_project/TOBY_STACKING/SAMPLES/FULL/masters/'\n",
    "rfile = 'sample_grp.fits'\n",
    "\n",
    "\n",
    "hdulist = pyfits.open(path+rfile)\n",
    "data = hdulist[1].data  # assuming the first extension is a table\n",
    "cols = hdulist[1].columns\n",
    "\n",
    "ID = np.array(data['ID'])\n",
    "z = np.array(data['Z'])\n",
    "ra = np.array(data['RA'])\n",
    "dec = np.array(data['DEC'])\n",
    "\n",
    "print type(ra)\n",
    "\n",
    "print 'number of objects: ', len(ID)\n",
    "print ''\n",
    "print 'done!'"
   ]
  },
  {
   "cell_type": "code",
   "execution_count": null,
   "metadata": {
    "collapsed": false
   },
   "outputs": [],
   "source": [
    "# # mock coordinates\n",
    "# N=1000\n",
    "# ra = ((237.5 - 112.5) * np.random.random_sample(N) + 112.5)\n",
    "# dec = (30 * np.random.random_sample(N))\n",
    "# z = (0.05-0.02) * np.random.random_sample(N) + 0.02\n",
    "\n",
    "# print 'done!'\n"
   ]
  },
  {
   "cell_type": "code",
   "execution_count": 19,
   "metadata": {
    "collapsed": true
   },
   "outputs": [],
   "source": [
    "from astropy.cosmology.core import default_cosmology as _default_cosmology\n",
    "def arcsec_per_kpc_comoving(z, cosmo=None):\n",
    "    \"\"\" Angular separation in arcsec corresponding to a comoving kpc\n",
    "    at redshift ``z``.\n",
    "    Parameters\n",
    "    ----------\n",
    "    z : array_like\n",
    "      Input redshifts.\n",
    "    Returns\n",
    "    -------\n",
    "    theta : `~astropy.units.Quantity`\n",
    "      The angular separation in arcsec corresponding to a comoving kpc\n",
    "      at each input redshift.\n",
    "    \"\"\"\n",
    "    if cosmo is None:\n",
    "        cosmo = _default_cosmology.get()\n",
    "    return cosmo.arcsec_per_kpc_comoving(z)"
   ]
  },
  {
   "cell_type": "code",
   "execution_count": 35,
   "metadata": {
    "collapsed": false
   },
   "outputs": [],
   "source": [
    "# Fixed Aperture\n",
    "ap_mpc = 1. # fixed Aperture (Mpc)\n",
    "cz = z*c #[km s^-1]\n",
    "\n",
    "ang_sep_kpc =  arcsec_per_kpc_comoving(z, cosmo=cosmo) #arcsec/kpc corresponding to ap_mpc for z array\n",
    "ang_sep = ang_sep.to(u.arcsec / u.Mpc) #Mpc"
   ]
  },
  {
   "cell_type": "code",
   "execution_count": 42,
   "metadata": {
    "collapsed": false
   },
   "outputs": [],
   "source": [
    "for i in range(len(ID)): # velocity cut in galaxies\n",
    "    id_cz = ID[(cz[i]-500 <= cz) & (cz <= cz[i]+500)]\n",
    "    ra_cz = ra[(cz[i]-500 <= cz) & (cz <= cz[i]+500)]\n",
    "    dec_cz = dec[(cz[i]-500 <= cz) & (cz <= cz[i]+500)]\n",
    "    z_cz = z[(cz[i]-500 <= cz) & (cz <= cz[i]+500)]\n",
    "\n",
    "for j in range(len(ID)):\n",
    "    pythag sep = [(cz[i]-500 <= ang_sep[i]) & (cz <= cz[i]+500)]\n"
   ]
  },
  {
   "cell_type": "code",
   "execution_count": null,
   "metadata": {
    "collapsed": false
   },
   "outputs": [],
   "source": []
  },
  {
   "cell_type": "code",
   "execution_count": null,
   "metadata": {
    "collapsed": true
   },
   "outputs": [],
   "source": []
  },
  {
   "cell_type": "code",
   "execution_count": null,
   "metadata": {
    "collapsed": false
   },
   "outputs": [],
   "source": []
  },
  {
   "cell_type": "code",
   "execution_count": null,
   "metadata": {
    "collapsed": false
   },
   "outputs": [],
   "source": []
  },
  {
   "cell_type": "code",
   "execution_count": null,
   "metadata": {
    "collapsed": false
   },
   "outputs": [],
   "source": []
  },
  {
   "cell_type": "code",
   "execution_count": null,
   "metadata": {
    "collapsed": false
   },
   "outputs": [],
   "source": []
  },
  {
   "cell_type": "code",
   "execution_count": null,
   "metadata": {
    "collapsed": false
   },
   "outputs": [],
   "source": [
    "wdir = '/Users/thbrown/AA_project/TOBY_STACKING/SAMPLES/FULL/ENVIRONMENT/'\n",
    "wfile = \"local_density.fits\"\n",
    "\n",
    "print len(N_Mpc3)\n",
    "\n",
    "\n",
    "col1 = pyfits.Column(name='ID_match', format='J', array=ID)\n",
    "col2 = pyfits.Column(name='N', format='I', array=N)\n",
    "cols = pyfits.ColDefs([col1, col2])\n",
    "\n",
    "\n",
    "tbhdu_new = pyfits.new_table(cols)\n",
    "tbhdu_new.writeto(wdir+wfile, clobber=True) # write to file, overwrite=True\n",
    "\n",
    "print ''\n",
    "print 'fits file writen to ' + wfile"
   ]
  },
  {
   "cell_type": "code",
   "execution_count": null,
   "metadata": {
    "collapsed": false
   },
   "outputs": [],
   "source": [
    "plt.figure()\n",
    "\n",
    "plt.plot(ra, dec, '.')\n",
    "\n",
    "plt.figure()\n",
    "\n",
    "n, bins, patches = plt.hist(distance, 30,edgecolor='r', linewidth=5, facecolor='r', alpha=0.75)\n",
    "# n, bins, patches = plt.hist(N_Mpc3, 30,edgecolor='b', linewidth=5, facecolor='none', alpha=0.75)\n",
    "\n",
    "\n",
    "plt.figure()\n",
    "# n, bins, patches = plt.hist(N, 6,edgecolor='r', linewidth=5, facecolor='r', alpha=0.75)\n",
    "# n, bins, patches = plt.hist(N_Mpc2, 6,edgecolor='g', linewidth=5, facecolor='g', alpha=0.75)\n",
    "# n2, bins, patches = plt.hist(N_Mpc2_cos, 6, edgecolor='b', linewidth=5, facecolor='none', alpha=0.75)\n",
    "\n",
    "plt.show()"
   ]
  }
 ],
 "metadata": {
  "kernelspec": {
   "display_name": "Python 2",
   "language": "python",
   "name": "python2"
  },
  "language_info": {
   "codemirror_mode": {
    "name": "ipython",
    "version": 2
   },
   "file_extension": ".py",
   "mimetype": "text/x-python",
   "name": "python",
   "nbconvert_exporter": "python",
   "pygments_lexer": "ipython2",
   "version": "2.7.3"
  }
 },
 "nbformat": 4,
 "nbformat_minor": 0
}
