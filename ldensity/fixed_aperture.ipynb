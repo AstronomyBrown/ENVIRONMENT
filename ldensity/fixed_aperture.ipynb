{
 "cells": [
  {
   "cell_type": "code",
   "execution_count": 1,
   "metadata": {
    "collapsed": false
   },
   "outputs": [
    {
     "name": "stdout",
     "output_type": "stream",
     "text": [
      "\n",
      "done!\n"
     ]
    }
   ],
   "source": [
    "%matplotlib inline\n",
    "import numpy as np\n",
    "import pyfits\n",
    "from astropy.cosmology import FlatLambdaCDM\n",
    "from astropy.coordinates import SkyCoord, Distance\n",
    "from astropy import units as u\n",
    "import matplotlib.pyplot as plt\n",
    "\n",
    "# Constants\n",
    "ang_sep = 2.86  # max Angle of separation\n",
    "H0 = 70.  # Hubble constant\n",
    "c = 299792.458  # c [km/s]\n",
    "rs_dif = 0.0016666  # Maximum z difference allowed for object within +/- 500 km/s\n",
    "\n",
    "# set cosmology\n",
    "cosmo = FlatLambdaCDM(H0=70., Om0=0.3) # cosmology\n",
    "\n",
    "print ''\n",
    "print 'done!'"
   ]
  },
  {
   "cell_type": "code",
   "execution_count": 2,
   "metadata": {
    "collapsed": false
   },
   "outputs": [
    {
     "name": "stdout",
     "output_type": "stream",
     "text": [
      "<type 'numpy.ndarray'>\n",
      "number of objects:  23513\n",
      "\n",
      "done!\n"
     ]
    }
   ],
   "source": [
    "# read my data\n",
    "path = '/Users/thbrown/AA_project/TOBY_STACKING/SAMPLES/FULL/masters/'\n",
    "rfile = 'sample_grp.fits'\n",
    "\n",
    "\n",
    "hdulist = pyfits.open(path+rfile)\n",
    "data = hdulist[1].data  # assuming the first extension is a table\n",
    "cols = hdulist[1].columns\n",
    "\n",
    "ID = np.array(data['ID'])\n",
    "z = np.array(data['Z'])\n",
    "ra = np.array(data['RA'])\n",
    "dec = np.array(data['DEC'])\n",
    "\n",
    "print type(ra)\n",
    "\n",
    "print 'number of objects: ', len(ID)\n",
    "print ''\n",
    "print 'done!'"
   ]
  },
  {
   "cell_type": "code",
   "execution_count": null,
   "metadata": {
    "collapsed": false
   },
   "outputs": [],
   "source": [
    "# mock coordinates\n",
    "N=1000\n",
    "ra = ((237.5 - 112.5) * np.random.random_sample(N) + 112.5)\n",
    "dec = (30 * np.random.random_sample(N))\n",
    "z = (0.05-0.02) * np.random.random_sample(N) + 0.02\n",
    "\n",
    "print 'done!'\n"
   ]
  },
  {
   "cell_type": "code",
   "execution_count": null,
   "metadata": {
    "collapsed": false
   },
   "outputs": [],
   "source": [
    "# Fixed Aperture brute force\n",
    "ap_mpc = 1. # fixed Aperture (Mpc)\n",
    "\n",
    "ID_TARGET_GALAXY = []\n",
    "N = []\n",
    "N_cos = []\n",
    "\n",
    "# ra, dec, luminosity distance\n",
    "rarad_arr = ra * np.pi/180\n",
    "decrad_arr = dec * np.pi/180\n",
    "lumdist_arr = cosmo.luminosity_distance(rs)\n",
    "\n",
    "for i in range(len(ID)):\n",
    "\n",
    "    successful_matches = []\n",
    "\n",
    "    cnt = 1 # counts for area and volume densities\n",
    "    cnt_cos = 1\n",
    "    \n",
    "    # object 1 ra, dec\n",
    "    ra1rad = rarad_arr[i]\n",
    "    dec1rad = decrad_arr[i]\n",
    "    lumdist1 = lumdist_arr[i]            # luminosity distance to object 1\n",
    "\n",
    "    \n",
    "    for j in range(len(ID)):\n",
    "        if j != i and abs(ra[j] - ra[i]) < ang_sep and \\\n",
    "            abs(dec[j] - dec[i]) < ang_sep and abs(rs[j]-rs[i]) < rs_dif:\n",
    "\n",
    "            # object 2 ra, dec\n",
    "            ra2rad = rarad_arr[j]\n",
    "            dec2rad = decrad_arr[j]\n",
    "            # luminosity distance to object 2\n",
    "            lumdist2 = lumdist_arr[j]\n",
    "#             print ID[i], ID[j]\n",
    "#             print ra[i], dec[i]\n",
    "#             print ra[j], dec[j]\n",
    "#             print lumdist1, lumdist2\n",
    "            \n",
    "\n",
    "#                 # Determine Cartesian coordinates between two objects\n",
    "#                 x1 = lumdist1*np.sin(dec1rad)*np.cos(ra1rad)\n",
    "#                 x2 = lumdist2*np.sin(dec2rad)*np.cos(ra2rad)\n",
    "#                 y1 = lumdist1*np.sin(ra1rad)*np.sin(dec1rad)\n",
    "#                 y2 = lumdist2*np.sin(ra2rad)*np.sin(dec2rad)\n",
    "#                 z1 = lumdist1*np.cos(dec1rad)\n",
    "#                 z2 = lumdist2*np.cos(dec2rad)\n",
    "            # distance between the two objects in 3D Cartesian-space \n",
    "#                 angsep_Mpc = np.sqrt((x2-x1)**2 + (y2-y1)**2 + (z2-z1)**2) \n",
    "\n",
    "            ### haversines rule (ish) \n",
    "            #   ==> cos(theta) = sin(d1)sin(d2) + cos(d1)cos(d2)cos(ra1-ra2)\n",
    "            cos_seprad = (np.sin(dec1rad)*np.sin(dec2rad)) + \\\n",
    "                            (np.cos(dec1rad)*np.cos(dec2rad)*np.cos(ra1rad-ra2rad))\n",
    "\n",
    "            theta = np.arccos(cos_seprad) # angle of separation\n",
    "#             print theta\n",
    "            \n",
    "            D_squared = lumdist1**2 + lumdist2**2 - (2 * lumdist1 * lumdist2 * cos_seprad) # law of cosines\n",
    "\n",
    "\n",
    "            # alternate trig measures\n",
    "            phi = theta / 2.\n",
    "            angsep_Mpc = 2 * lumdist1 * np.sin(phi) # same distance from approx.\n",
    "#           tb_mod_angsep_Mpc_1 = (lumdist1 * np.sin(phi)) + (lumdist2 * np.sin(phi)) # two ra triangles\n",
    "\n",
    "    \n",
    "#             print re_angsep_Mpc, np.sqrt(D_squared)\n",
    "#             print re_angsep_Mpc, tb_mod_angsep_Mpc_1, np.sqrt(D_squared)\n",
    "            # Number with separation distance < app_mpc\n",
    "#             print np.sqrt(D_squared), app_mpc\n",
    "            if np.sqrt(D_squared) <= ap_mpc:\n",
    "                cnt_cos = cnt_cos + 1\n",
    "            if angsep_Mpc <= ap_mpc:\n",
    "                cnt = cnt + 1\n",
    "\n",
    "    N.append(cnt)\n",
    "    N_cos.append(cnt_cos)"
   ]
  },
  {
   "cell_type": "code",
   "execution_count": null,
   "metadata": {
    "collapsed": true
   },
   "outputs": [],
   "source": [
    "# # Fixed aperture K-D tree method\n",
    "# # This creates the catalog and deals with coordinates\n",
    "# # and cosmology (through Distance)\n",
    "# ap_mpc = 1. #* u.Mpc # fixed Aperture (Mpc)\n",
    "# c = SkyCoord(ra=ra*u.degree, dec=dec*u.degree, distance=Distance(z=z, cosmology=cosmo))\n",
    "\n",
    "# fa_dist = []\n",
    "# fa_cnt = []\n",
    "\n",
    "\n",
    "# for i in range(1,20):\n",
    "#     # match the catalog onto itself and give the i-th nearest\n",
    "#     # the 0-th is not possible, the 1st gives the galaxy itself.\n",
    "#     # d3d contains the 3d distances.\n",
    "#     idx, d2d, d3d = c.match_to_catalog_3d(c,i) # or 5 or 10\n",
    "#     fa_dist.append(d3d)\n",
    "    \n",
    "#     fa_n = fa_dist[np.where(fa_dist >= 1)]"
   ]
  },
  {
   "cell_type": "code",
   "execution_count": null,
   "metadata": {
    "collapsed": false
   },
   "outputs": [],
   "source": [
    "# Fixed aperture K-D tree method\n",
    "# This creates the catalog and deals with coordinates\n",
    "# and cosmology (through Distance)\n",
    "ap_mpc = 1. #* u.Mpc # fixed Aperture (Mpc)\n",
    "c = SkyCoord(ra=ra*u.degree, dec=dec*u.degree, distance=Distance(z=z, cosmology=cosmo))\n",
    "\n",
    "fa_dist = []\n",
    "fa_cnt = []\n",
    "\n",
    "idx1,idx2, d2d, d3d = c.search_around_3d(c, 1*u.Mpc)  \n",
    "\n",
    "for i in range(0, len(ra)):\n",
    "    fa_cnt.append(len(idx1[idx1 == i]))\n",
    "\n",
    "    \n",
    "print d3d[idx1 == 4]\n",
    "print len(idx1)\n",
    "print len(idx2)\n",
    "print idx1[0:9]\n",
    "print idx2[0:9]\n",
    "print d3d[0:9]\n",
    "\n",
    "print 'done'"
   ]
  },
  {
   "cell_type": "code",
   "execution_count": null,
   "metadata": {
    "collapsed": false
   },
   "outputs": [],
   "source": [
    "print (fa_cnt[0:10])\n"
   ]
  },
  {
   "cell_type": "code",
   "execution_count": null,
   "metadata": {
    "collapsed": false
   },
   "outputs": [],
   "source": [
    "print np.shape(fa_dist)\n",
    "fa_dist = np.array(fa_dist)\n",
    "\n",
    "\n",
    "print np.shape(fa_dist[np.where(fa_dist <1)])\n",
    "die\n",
    "\n",
    "# this is just to convert a list of Quantity arrays to\n",
    "# a 2D Quantity array\n",
    "nn_dist = u.Quantity(nn_dist)\n",
    "\n",
    "# distances to the nearest 3 neighbors for galaxy at index 2\n",
    "# nn_dist[:3,2]\n",
    "\n",
    "# in general [:neighbors,gal_id]\n",
    "# to get the same result as you ipynb we need to transpose.\n",
    "neigh3 = nn_dist[:3].T\n",
    "neigh5 = nn_dist[:5].T\n",
    "neigh7 = nn_dist[:7].T\n",
    "neigh10 = nn_dist[:10].T\n",
    "\n",
    "print 'done'"
   ]
  },
  {
   "cell_type": "code",
   "execution_count": null,
   "metadata": {
    "collapsed": false
   },
   "outputs": [],
   "source": [
    "# N_Mpc2 = N_area / (np.pi**app_mpc**2) # Number per unit area\n",
    "N_Mpc2 = [n / (np.pi*(app_mpc**2)) for n in N]\n",
    "N_Mpc2_cos = [n / (np.pi*(app_mpc**2)) for n in N_cos]\n",
    "\n",
    "# N_Mpc3 = N_volume  / ((4/3)*np.pi**app_mpc**3) # Number per unit volume\n",
    "N_Mpc3 = [n / ((4. / 3.)*np.pi*(app_mpc**3)) for n in N] \n",
    "N_Mpc3_cos = [n / ((4. / 3.)*np.pi*(app_mpc**3)) for n in N_cos] \n",
    "\n",
    "print ''\n",
    "print 'done!'"
   ]
  },
  {
   "cell_type": "code",
   "execution_count": null,
   "metadata": {
    "collapsed": false
   },
   "outputs": [],
   "source": [
    "wdir = '/Users/thbrown/AA_project/TOBY_STACKING/SAMPLES/FULL/ENVIRONMENT/'\n",
    "wfile = \"local_density.fits\"\n",
    "\n",
    "print len(N_Mpc3)\n",
    "\n",
    "\n",
    "col1 = pyfits.Column(name='ID_match', format='J', array=ID)\n",
    "col2 = pyfits.Column(name='N', format='I', array=N)\n",
    "col3 = pyfits.Column(name='ld_Mpc2', format='D', array=N_Mpc2)\n",
    "col4 = pyfits.Column(name='ld_Mpc3', format='D', array=N_Mpc3)\n",
    "col5 = pyfits.Column(name='ld_cos', format='I', array=N_cos)\n",
    "col6 = pyfits.Column(name='ld_Mpc2_cos', format='D', array=N_Mpc2_cos)\n",
    "col7 = pyfits.Column(name='ld_Mpc3_cos', format='D', array=N_Mpc3_cos)\n",
    "\n",
    "\n",
    "cols = pyfits.ColDefs([col1, col2, col3, col4, col5, col6, col7])\n",
    "\n",
    "\n",
    "tbhdu_new = pyfits.new_table(cols)\n",
    "tbhdu_new.writeto(wdir+wfile, clobber=True) # write to file, overwrite=True\n",
    "\n",
    "print ''\n",
    "print 'fits file writen to ' + wfile"
   ]
  },
  {
   "cell_type": "code",
   "execution_count": null,
   "metadata": {
    "collapsed": true
   },
   "outputs": [],
   "source": [
    "%matplotlib inline\n",
    "import matplotlib.pyplot as plt\n",
    "\n",
    "# N_Mpc2 = N_area / (np.pi**app_mpc**2) # Number per unit area\n",
    "N_Mpc2 = [n / (np.pi*(1**2)) for n in N]\n",
    "N_Mpc2_cos = [n / (np.pi*(1**2)) for n in N_cos]\n",
    "\n",
    "# N_Mpc3 = N_volume  / ((4/3)*np.pi**app_mpc**3) # Number per unit volume\n",
    "N_Mpc3 = [n / ((4. / 3.)*np.pi*(1**3)) for n in N] \n",
    "N_Mpc3_cos = [n / ((4. / 3.)*np.pi*(1**3)) for n in N_cos] \n",
    "\n",
    "print np.log10(min(N_Mpc3))"
   ]
  },
  {
   "cell_type": "code",
   "execution_count": null,
   "metadata": {
    "collapsed": false
   },
   "outputs": [],
   "source": [
    "plt.figure()\n",
    "\n",
    "plt.plot(ra, dec, '.')\n",
    "\n",
    "plt.figure()\n",
    "\n",
    "n, bins, patches = plt.hist(distance, 30,edgecolor='r', linewidth=5, facecolor='r', alpha=0.75)\n",
    "# n, bins, patches = plt.hist(N_Mpc3, 30,edgecolor='b', linewidth=5, facecolor='none', alpha=0.75)\n",
    "\n",
    "\n",
    "plt.figure()\n",
    "# n, bins, patches = plt.hist(N, 6,edgecolor='r', linewidth=5, facecolor='r', alpha=0.75)\n",
    "# n, bins, patches = plt.hist(N_Mpc2, 6,edgecolor='g', linewidth=5, facecolor='g', alpha=0.75)\n",
    "# n2, bins, patches = plt.hist(N_Mpc2_cos, 6, edgecolor='b', linewidth=5, facecolor='none', alpha=0.75)\n",
    "\n",
    "plt.show()"
   ]
  },
  {
   "cell_type": "code",
   "execution_count": null,
   "metadata": {
    "collapsed": false
   },
   "outputs": [],
   "source": [
    "N = np.array(N)\n",
    "N_Mpc2 = np.array(N_Mpc2)\n",
    "N_Mpc3 = np.array(N_Mpc3)\n",
    "\n",
    "idx = N[np.where(N >= 1)]\n",
    "\n",
    "print 4./3.\n",
    "\n",
    "print N[idx[0:10]]\n",
    "\n",
    "print N_Mpc2[idx[0:10]]\n",
    "print N_Mpc3[idx[0:10]]"
   ]
  },
  {
   "cell_type": "code",
   "execution_count": null,
   "metadata": {
    "collapsed": true
   },
   "outputs": [],
   "source": []
  }
 ],
 "metadata": {
  "kernelspec": {
   "display_name": "Python 2",
   "language": "python",
   "name": "python2"
  },
  "language_info": {
   "codemirror_mode": {
    "name": "ipython",
    "version": 2
   },
   "file_extension": ".py",
   "mimetype": "text/x-python",
   "name": "python",
   "nbconvert_exporter": "python",
   "pygments_lexer": "ipython2",
   "version": "2.7.3"
  }
 },
 "nbformat": 4,
 "nbformat_minor": 0
}
